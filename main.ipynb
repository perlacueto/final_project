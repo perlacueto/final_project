{
 "cells": [
  {
   "cell_type": "code",
   "execution_count": 1495,
   "id": "f3540989",
   "metadata": {},
   "outputs": [],
   "source": [
    "import numpy as np\n",
    "import pandas as pd\n",
    "\n",
    "import mplfinance as mpf\n",
    "from datetime import datetime, timedelta, timezone\n",
    "from dateutil.relativedelta import relativedelta, FR\n",
    "\n",
    "from sklearn.model_selection import train_test_split\n",
    "\n",
    "import matplotlib.pyplot as plt\n",
    "import matplotlib.style as style\n",
    "import seaborn as sns\n",
    "from matplotlib import pyplot\n",
    "from matplotlib.ticker import ScalarFormatter\n",
    "sns.set_context(\"talk\")\n",
    "style.use('seaborn-colorblind')\n",
    "\n",
    "import warnings\n",
    "warnings.simplefilter('ignore')"
   ]
  },
  {
   "cell_type": "code",
   "execution_count": 1416,
   "id": "f8478f1a",
   "metadata": {},
   "outputs": [
    {
     "data": {
      "text/html": [
       "<div>\n",
       "<style scoped>\n",
       "    .dataframe tbody tr th:only-of-type {\n",
       "        vertical-align: middle;\n",
       "    }\n",
       "\n",
       "    .dataframe tbody tr th {\n",
       "        vertical-align: top;\n",
       "    }\n",
       "\n",
       "    .dataframe thead th {\n",
       "        text-align: right;\n",
       "    }\n",
       "</style>\n",
       "<table border=\"1\" class=\"dataframe\">\n",
       "  <thead>\n",
       "    <tr style=\"text-align: right;\">\n",
       "      <th></th>\n",
       "      <th>Date</th>\n",
       "      <th>Open</th>\n",
       "      <th>High</th>\n",
       "      <th>Low</th>\n",
       "      <th>Close</th>\n",
       "      <th>Adj Close</th>\n",
       "      <th>Volume</th>\n",
       "    </tr>\n",
       "  </thead>\n",
       "  <tbody>\n",
       "    <tr>\n",
       "      <th>0</th>\n",
       "      <td>2017-01-01</td>\n",
       "      <td>963.658020</td>\n",
       "      <td>1003.080017</td>\n",
       "      <td>958.698975</td>\n",
       "      <td>998.325012</td>\n",
       "      <td>998.325012</td>\n",
       "      <td>1.477750e+08</td>\n",
       "    </tr>\n",
       "    <tr>\n",
       "      <th>1</th>\n",
       "      <td>2017-01-02</td>\n",
       "      <td>998.617004</td>\n",
       "      <td>1031.390015</td>\n",
       "      <td>996.702026</td>\n",
       "      <td>1021.750000</td>\n",
       "      <td>1021.750000</td>\n",
       "      <td>2.221850e+08</td>\n",
       "    </tr>\n",
       "    <tr>\n",
       "      <th>2</th>\n",
       "      <td>2017-01-03</td>\n",
       "      <td>1021.599976</td>\n",
       "      <td>1044.079956</td>\n",
       "      <td>1021.599976</td>\n",
       "      <td>1043.839966</td>\n",
       "      <td>1043.839966</td>\n",
       "      <td>1.851680e+08</td>\n",
       "    </tr>\n",
       "    <tr>\n",
       "      <th>3</th>\n",
       "      <td>2017-01-04</td>\n",
       "      <td>1044.400024</td>\n",
       "      <td>1159.420044</td>\n",
       "      <td>1044.400024</td>\n",
       "      <td>1154.729980</td>\n",
       "      <td>1154.729980</td>\n",
       "      <td>3.449460e+08</td>\n",
       "    </tr>\n",
       "    <tr>\n",
       "      <th>4</th>\n",
       "      <td>2017-01-05</td>\n",
       "      <td>1156.729980</td>\n",
       "      <td>1191.099976</td>\n",
       "      <td>910.416992</td>\n",
       "      <td>1013.380005</td>\n",
       "      <td>1013.380005</td>\n",
       "      <td>5.101990e+08</td>\n",
       "    </tr>\n",
       "    <tr>\n",
       "      <th>...</th>\n",
       "      <td>...</td>\n",
       "      <td>...</td>\n",
       "      <td>...</td>\n",
       "      <td>...</td>\n",
       "      <td>...</td>\n",
       "      <td>...</td>\n",
       "      <td>...</td>\n",
       "    </tr>\n",
       "    <tr>\n",
       "      <th>1741</th>\n",
       "      <td>2021-10-08</td>\n",
       "      <td>53802.144531</td>\n",
       "      <td>55922.980469</td>\n",
       "      <td>53688.054688</td>\n",
       "      <td>53967.847656</td>\n",
       "      <td>53967.847656</td>\n",
       "      <td>3.480087e+10</td>\n",
       "    </tr>\n",
       "    <tr>\n",
       "      <th>1742</th>\n",
       "      <td>2021-10-09</td>\n",
       "      <td>53929.781250</td>\n",
       "      <td>55397.945313</td>\n",
       "      <td>53735.144531</td>\n",
       "      <td>54968.222656</td>\n",
       "      <td>54968.222656</td>\n",
       "      <td>3.249121e+10</td>\n",
       "    </tr>\n",
       "    <tr>\n",
       "      <th>1743</th>\n",
       "      <td>2021-10-10</td>\n",
       "      <td>54952.820313</td>\n",
       "      <td>56401.304688</td>\n",
       "      <td>54264.257813</td>\n",
       "      <td>54771.578125</td>\n",
       "      <td>54771.578125</td>\n",
       "      <td>3.952779e+10</td>\n",
       "    </tr>\n",
       "    <tr>\n",
       "      <th>1744</th>\n",
       "      <td>2021-10-11</td>\n",
       "      <td>54734.125000</td>\n",
       "      <td>57793.039063</td>\n",
       "      <td>54519.765625</td>\n",
       "      <td>57484.789063</td>\n",
       "      <td>57484.789063</td>\n",
       "      <td>4.263733e+10</td>\n",
       "    </tr>\n",
       "    <tr>\n",
       "      <th>1745</th>\n",
       "      <td>2021-10-12</td>\n",
       "      <td>57526.832031</td>\n",
       "      <td>57627.878906</td>\n",
       "      <td>54477.972656</td>\n",
       "      <td>56041.058594</td>\n",
       "      <td>56041.058594</td>\n",
       "      <td>4.108376e+10</td>\n",
       "    </tr>\n",
       "  </tbody>\n",
       "</table>\n",
       "<p>1746 rows × 7 columns</p>\n",
       "</div>"
      ],
      "text/plain": [
       "            Date          Open          High           Low         Close  \\\n",
       "0     2017-01-01    963.658020   1003.080017    958.698975    998.325012   \n",
       "1     2017-01-02    998.617004   1031.390015    996.702026   1021.750000   \n",
       "2     2017-01-03   1021.599976   1044.079956   1021.599976   1043.839966   \n",
       "3     2017-01-04   1044.400024   1159.420044   1044.400024   1154.729980   \n",
       "4     2017-01-05   1156.729980   1191.099976    910.416992   1013.380005   \n",
       "...          ...           ...           ...           ...           ...   \n",
       "1741  2021-10-08  53802.144531  55922.980469  53688.054688  53967.847656   \n",
       "1742  2021-10-09  53929.781250  55397.945313  53735.144531  54968.222656   \n",
       "1743  2021-10-10  54952.820313  56401.304688  54264.257813  54771.578125   \n",
       "1744  2021-10-11  54734.125000  57793.039063  54519.765625  57484.789063   \n",
       "1745  2021-10-12  57526.832031  57627.878906  54477.972656  56041.058594   \n",
       "\n",
       "         Adj Close        Volume  \n",
       "0       998.325012  1.477750e+08  \n",
       "1      1021.750000  2.221850e+08  \n",
       "2      1043.839966  1.851680e+08  \n",
       "3      1154.729980  3.449460e+08  \n",
       "4      1013.380005  5.101990e+08  \n",
       "...            ...           ...  \n",
       "1741  53967.847656  3.480087e+10  \n",
       "1742  54968.222656  3.249121e+10  \n",
       "1743  54771.578125  3.952779e+10  \n",
       "1744  57484.789063  4.263733e+10  \n",
       "1745  56041.058594  4.108376e+10  \n",
       "\n",
       "[1746 rows x 7 columns]"
      ]
     },
     "execution_count": 1416,
     "metadata": {},
     "output_type": "execute_result"
    }
   ],
   "source": [
    "df = pd.read_csv('BTC-USD.csv')\n",
    "df"
   ]
  },
  {
   "cell_type": "code",
   "execution_count": 1417,
   "id": "50326079",
   "metadata": {},
   "outputs": [],
   "source": [
    "df.drop('Adj Close', axis=1, inplace= True)"
   ]
  },
  {
   "cell_type": "code",
   "execution_count": 1418,
   "id": "91f6bfc8",
   "metadata": {},
   "outputs": [
    {
     "name": "stdout",
     "output_type": "stream",
     "text": [
      "<class 'pandas.core.frame.DataFrame'>\n",
      "RangeIndex: 1746 entries, 0 to 1745\n",
      "Data columns (total 6 columns):\n",
      " #   Column  Non-Null Count  Dtype  \n",
      "---  ------  --------------  -----  \n",
      " 0   Date    1746 non-null   object \n",
      " 1   Open    1742 non-null   float64\n",
      " 2   High    1742 non-null   float64\n",
      " 3   Low     1742 non-null   float64\n",
      " 4   Close   1742 non-null   float64\n",
      " 5   Volume  1742 non-null   float64\n",
      "dtypes: float64(5), object(1)\n",
      "memory usage: 82.0+ KB\n"
     ]
    }
   ],
   "source": [
    "df.info()"
   ]
  },
  {
   "cell_type": "code",
   "execution_count": 1419,
   "id": "077ea964",
   "metadata": {},
   "outputs": [
    {
     "name": "stdout",
     "output_type": "stream",
     "text": [
      "<class 'pandas.core.frame.DataFrame'>\n",
      "RangeIndex: 1746 entries, 0 to 1745\n",
      "Data columns (total 6 columns):\n",
      " #   Column  Non-Null Count  Dtype  \n",
      "---  ------  --------------  -----  \n",
      " 0   Date    1746 non-null   object \n",
      " 1   Open    1746 non-null   float64\n",
      " 2   High    1746 non-null   float64\n",
      " 3   Low     1746 non-null   float64\n",
      " 4   Close   1746 non-null   float64\n",
      " 5   Volume  1746 non-null   float64\n",
      "dtypes: float64(5), object(1)\n",
      "memory usage: 82.0+ KB\n"
     ]
    }
   ],
   "source": [
    "df = df.fillna(method = 'ffill')\n",
    "df.info()"
   ]
  },
  {
   "cell_type": "code",
   "execution_count": 1420,
   "id": "2d32bd0e",
   "metadata": {},
   "outputs": [
    {
     "name": "stdout",
     "output_type": "stream",
     "text": [
      "<class 'pandas.core.frame.DataFrame'>\n",
      "DatetimeIndex: 1746 entries, 2017-01-01 to 2021-10-12\n",
      "Data columns (total 5 columns):\n",
      " #   Column  Non-Null Count  Dtype  \n",
      "---  ------  --------------  -----  \n",
      " 0   Open    1746 non-null   float64\n",
      " 1   High    1746 non-null   float64\n",
      " 2   Low     1746 non-null   float64\n",
      " 3   Close   1746 non-null   float64\n",
      " 4   Volume  1746 non-null   float64\n",
      "dtypes: float64(5)\n",
      "memory usage: 81.8 KB\n"
     ]
    }
   ],
   "source": [
    "df.index = pd.to_datetime(df['Date'])\n",
    "del df['Date']\n",
    "df.columns = ['Open', 'High', 'Low', 'Close', 'Volume']\n",
    "df.info()"
   ]
  },
  {
   "cell_type": "code",
   "execution_count": 1421,
   "id": "c57353f0",
   "metadata": {},
   "outputs": [
    {
     "name": "stdout",
     "output_type": "stream",
     "text": [
      "daily\n"
     ]
    },
    {
     "data": {
      "image/png": "[encoded data removed]",
      "text/plain": [
       "<Figure size 1725x575 with 4 Axes>"
      ]
     },
     "metadata": {},
     "output_type": "display_data"
    }
   ],
   "source": [
    "# plot candles via mplfinance (daily, with 5 & 25 days moving average)\n",
    "print('daily')\n",
    "mpf.plot(\n",
    "    df\n",
    "    , type='candle'\n",
    "    , volume=True\n",
    "    , figratio=(12,4)\n",
    "    , mav=(5, 25)\n",
    "    , style='yahoo'\n",
    ")"
   ]
  },
  {
   "cell_type": "code",
   "execution_count": 1422,
   "id": "91e3bbca",
   "metadata": {},
   "outputs": [
    {
     "name": "stdout",
     "output_type": "stream",
     "text": [
      "                  Open         High         Low       Close        Volume\n",
      "Date                                                                     \n",
      "2016-12-26  963.658020  1003.080017  958.698975  998.325012  1.477750e+08\n",
      "2017-01-02  998.617004  1191.099976  823.556030  911.198975  2.052639e+09\n",
      "2017-01-09  913.244019   919.447998  755.755981  821.797974  1.123985e+09\n",
      "2017-01-16  821.783020   937.525024  820.270996  924.672974  8.836116e+08\n",
      "2017-01-23  925.499023   928.265991  891.687012  919.495972  6.931519e+08\n"
     ]
    }
   ],
   "source": [
    "d_ohlcv = {'Open': 'first',\n",
    "           'High': 'max',\n",
    "           'Low': 'min',\n",
    "           'Close': 'last',\n",
    "           'Volume': 'sum'}\n",
    "\n",
    "df_w = df.resample('W-MON', closed='left', label='left').agg(d_ohlcv)\n",
    "print(df_w.head())"
   ]
  },
  {
   "cell_type": "code",
   "execution_count": 1423,
   "id": "a39f463c",
   "metadata": {},
   "outputs": [
    {
     "name": "stdout",
     "output_type": "stream",
     "text": [
      "weekly\n"
     ]
    },
    {
     "data": {
      "image/png": "[encoded data removed]",
      "text/plain": [
       "<Figure size 1725x575 with 4 Axes>"
      ]
     },
     "metadata": {},
     "output_type": "display_data"
    }
   ],
   "source": [
    "print('weekly')\n",
    "mpf.plot(\n",
    "    df_w\n",
    "    , type='candle'\n",
    "    , volume=True\n",
    "    , figratio=(12,4)\n",
    "    , mav=(5, 25)\n",
    "    , style='yahoo'\n",
    ")"
   ]
  },
  {
   "cell_type": "code",
   "execution_count": 1489,
   "id": "c2fea0c3",
   "metadata": {},
   "outputs": [
    {
     "name": "stdout",
     "output_type": "stream",
     "text": [
      "                   Open         High          Low        Close        Volume\n",
      "Date                                                                        \n",
      "2016-12-31   920.151001   923.047974   919.473999   920.382019  7.822730e+07\n",
      "2017-01-31   920.958984  1200.390015   920.958984  1179.969971  4.262387e+09\n",
      "2017-02-28  1180.719971  1280.310059   903.713013  1026.430054  1.061012e+10\n",
      "2017-03-31  1026.640015  1331.280029  1026.640015  1321.790039  9.791620e+09\n",
      "2017-04-30  1321.869995  2763.709961  1314.920044  2175.469971  3.313014e+10\n"
     ]
    }
   ],
   "source": [
    "df_m = df.resample('M', closed='left', label='left').agg(d_ohlcv)\n",
    "print(df_m.head())"
   ]
  },
  {
   "cell_type": "code",
   "execution_count": 1494,
   "id": "a3666cb7",
   "metadata": {},
   "outputs": [
    {
     "name": "stdout",
     "output_type": "stream",
     "text": [
      "monthly\n"
     ]
    },
    {
     "data": {
      "image/png": "[encoded data removed]",
      "text/plain": [
       "<Figure size 1725x575 with 4 Axes>"
      ]
     },
     "metadata": {},
     "output_type": "display_data"
    }
   ],
   "source": [
    "print('monthly')\n",
    "mpf.plot(\n",
    "    df_m\n",
    "    , type='candle'\n",
    "    , volume=True\n",
    "    , figratio=(12,4)\n",
    "    , mav=(7, 13)\n",
    "    , style='yahoo'\n",
    ")"
   ]
  },
  {
   "cell_type": "code",
   "execution_count": 1424,
   "id": "053b21a1",
   "metadata": {},
   "outputs": [
    {
     "data": {
      "text/plain": [
       "\"\\ndf['day'] = pd.to_datetime(df.index).day\\ndf['month'] = pd.to_datetime(df.index).month\\ndf['year'] = pd.to_datetime(df.index).year\\ndf['dayofweek'] = pd.to_datetime(df.index).dayofweek\\ndf['ym'] = df['year'].astype(str) + '_' + df['month'].astype(str)\\nprint(df.shape)\\ndf.tail()\\n\""
      ]
     },
     "execution_count": 1424,
     "metadata": {},
     "output_type": "execute_result"
    }
   ],
   "source": [
    "'''\n",
    "df['day'] = pd.to_datetime(df.index).day\n",
    "df['month'] = pd.to_datetime(df.index).month\n",
    "df['year'] = pd.to_datetime(df.index).year\n",
    "df['dayofweek'] = pd.to_datetime(df.index).dayofweek\n",
    "df['ym'] = df['year'].astype(str) + '_' + df['month'].astype(str)\n",
    "print(df.shape)\n",
    "df.tail()\n",
    "'''"
   ]
  },
  {
   "cell_type": "code",
   "execution_count": 1425,
   "id": "237d2ca3",
   "metadata": {},
   "outputs": [
    {
     "data": {
      "text/html": [
       "<div>\n",
       "<style scoped>\n",
       "    .dataframe tbody tr th:only-of-type {\n",
       "        vertical-align: middle;\n",
       "    }\n",
       "\n",
       "    .dataframe tbody tr th {\n",
       "        vertical-align: top;\n",
       "    }\n",
       "\n",
       "    .dataframe thead th {\n",
       "        text-align: right;\n",
       "    }\n",
       "</style>\n",
       "<table border=\"1\" class=\"dataframe\">\n",
       "  <thead>\n",
       "    <tr style=\"text-align: right;\">\n",
       "      <th></th>\n",
       "      <th>Volume</th>\n",
       "      <th>Volume_past</th>\n",
       "    </tr>\n",
       "    <tr>\n",
       "      <th>Date</th>\n",
       "      <th></th>\n",
       "      <th></th>\n",
       "    </tr>\n",
       "  </thead>\n",
       "  <tbody>\n",
       "    <tr>\n",
       "      <th>2017-01-01</th>\n",
       "      <td>147775008.0</td>\n",
       "      <td>NaN</td>\n",
       "    </tr>\n",
       "    <tr>\n",
       "      <th>2017-01-02</th>\n",
       "      <td>222184992.0</td>\n",
       "      <td>147775008.0</td>\n",
       "    </tr>\n",
       "    <tr>\n",
       "      <th>2017-01-03</th>\n",
       "      <td>185168000.0</td>\n",
       "      <td>222184992.0</td>\n",
       "    </tr>\n",
       "    <tr>\n",
       "      <th>2017-01-04</th>\n",
       "      <td>344945984.0</td>\n",
       "      <td>185168000.0</td>\n",
       "    </tr>\n",
       "    <tr>\n",
       "      <th>2017-01-05</th>\n",
       "      <td>510199008.0</td>\n",
       "      <td>344945984.0</td>\n",
       "    </tr>\n",
       "  </tbody>\n",
       "</table>\n",
       "</div>"
      ],
      "text/plain": [
       "                 Volume  Volume_past\n",
       "Date                                \n",
       "2017-01-01  147775008.0          NaN\n",
       "2017-01-02  222184992.0  147775008.0\n",
       "2017-01-03  185168000.0  222184992.0\n",
       "2017-01-04  344945984.0  185168000.0\n",
       "2017-01-05  510199008.0  344945984.0"
      ]
     },
     "execution_count": 1425,
     "metadata": {},
     "output_type": "execute_result"
    }
   ],
   "source": [
    "df['Volume_past'] = df.Volume.shift()\n",
    "df[['Volume','Volume_past']].head()"
   ]
  },
  {
   "cell_type": "code",
   "execution_count": 1426,
   "id": "bd5c0900",
   "metadata": {},
   "outputs": [],
   "source": [
    "df['Change'] = df['Open'].diff(1)\n",
    "df.Change.to_frame()\n",
    "df = df[1:]"
   ]
  },
  {
   "cell_type": "code",
   "execution_count": 1427,
   "id": "864fc552",
   "metadata": {},
   "outputs": [
    {
     "data": {
      "text/html": [
       "<div>\n",
       "<style scoped>\n",
       "    .dataframe tbody tr th:only-of-type {\n",
       "        vertical-align: middle;\n",
       "    }\n",
       "\n",
       "    .dataframe tbody tr th {\n",
       "        vertical-align: top;\n",
       "    }\n",
       "\n",
       "    .dataframe thead th {\n",
       "        text-align: right;\n",
       "    }\n",
       "</style>\n",
       "<table border=\"1\" class=\"dataframe\">\n",
       "  <thead>\n",
       "    <tr style=\"text-align: right;\">\n",
       "      <th></th>\n",
       "      <th>Open</th>\n",
       "      <th>High</th>\n",
       "      <th>Low</th>\n",
       "      <th>Close</th>\n",
       "      <th>Volume</th>\n",
       "      <th>Volume_past</th>\n",
       "      <th>Change</th>\n",
       "      <th>Loss</th>\n",
       "      <th>Gain</th>\n",
       "    </tr>\n",
       "    <tr>\n",
       "      <th>Date</th>\n",
       "      <th></th>\n",
       "      <th></th>\n",
       "      <th></th>\n",
       "      <th></th>\n",
       "      <th></th>\n",
       "      <th></th>\n",
       "      <th></th>\n",
       "      <th></th>\n",
       "      <th></th>\n",
       "    </tr>\n",
       "  </thead>\n",
       "  <tbody>\n",
       "    <tr>\n",
       "      <th>2017-01-02</th>\n",
       "      <td>998.617004</td>\n",
       "      <td>1031.390015</td>\n",
       "      <td>996.702026</td>\n",
       "      <td>1021.750000</td>\n",
       "      <td>2.221850e+08</td>\n",
       "      <td>1.477750e+08</td>\n",
       "      <td>34.958984</td>\n",
       "      <td>0</td>\n",
       "      <td>34</td>\n",
       "    </tr>\n",
       "    <tr>\n",
       "      <th>2017-01-03</th>\n",
       "      <td>1021.599976</td>\n",
       "      <td>1044.079956</td>\n",
       "      <td>1021.599976</td>\n",
       "      <td>1043.839966</td>\n",
       "      <td>1.851680e+08</td>\n",
       "      <td>2.221850e+08</td>\n",
       "      <td>22.982972</td>\n",
       "      <td>0</td>\n",
       "      <td>22</td>\n",
       "    </tr>\n",
       "    <tr>\n",
       "      <th>2017-01-04</th>\n",
       "      <td>1044.400024</td>\n",
       "      <td>1159.420044</td>\n",
       "      <td>1044.400024</td>\n",
       "      <td>1154.729980</td>\n",
       "      <td>3.449460e+08</td>\n",
       "      <td>1.851680e+08</td>\n",
       "      <td>22.800048</td>\n",
       "      <td>0</td>\n",
       "      <td>22</td>\n",
       "    </tr>\n",
       "    <tr>\n",
       "      <th>2017-01-05</th>\n",
       "      <td>1156.729980</td>\n",
       "      <td>1191.099976</td>\n",
       "      <td>910.416992</td>\n",
       "      <td>1013.380005</td>\n",
       "      <td>5.101990e+08</td>\n",
       "      <td>3.449460e+08</td>\n",
       "      <td>112.329956</td>\n",
       "      <td>0</td>\n",
       "      <td>112</td>\n",
       "    </tr>\n",
       "    <tr>\n",
       "      <th>2017-01-06</th>\n",
       "      <td>1014.239990</td>\n",
       "      <td>1046.810059</td>\n",
       "      <td>883.943970</td>\n",
       "      <td>902.200989</td>\n",
       "      <td>3.518760e+08</td>\n",
       "      <td>5.101990e+08</td>\n",
       "      <td>-142.489990</td>\n",
       "      <td>-142</td>\n",
       "      <td>0</td>\n",
       "    </tr>\n",
       "    <tr>\n",
       "      <th>...</th>\n",
       "      <td>...</td>\n",
       "      <td>...</td>\n",
       "      <td>...</td>\n",
       "      <td>...</td>\n",
       "      <td>...</td>\n",
       "      <td>...</td>\n",
       "      <td>...</td>\n",
       "      <td>...</td>\n",
       "      <td>...</td>\n",
       "    </tr>\n",
       "    <tr>\n",
       "      <th>2021-10-08</th>\n",
       "      <td>53802.144531</td>\n",
       "      <td>55922.980469</td>\n",
       "      <td>53688.054688</td>\n",
       "      <td>53967.847656</td>\n",
       "      <td>3.480087e+10</td>\n",
       "      <td>3.680786e+10</td>\n",
       "      <td>-1536.480469</td>\n",
       "      <td>-1536</td>\n",
       "      <td>0</td>\n",
       "    </tr>\n",
       "    <tr>\n",
       "      <th>2021-10-09</th>\n",
       "      <td>53929.781250</td>\n",
       "      <td>55397.945313</td>\n",
       "      <td>53735.144531</td>\n",
       "      <td>54968.222656</td>\n",
       "      <td>3.249121e+10</td>\n",
       "      <td>3.480087e+10</td>\n",
       "      <td>127.636719</td>\n",
       "      <td>0</td>\n",
       "      <td>127</td>\n",
       "    </tr>\n",
       "    <tr>\n",
       "      <th>2021-10-10</th>\n",
       "      <td>54952.820313</td>\n",
       "      <td>56401.304688</td>\n",
       "      <td>54264.257813</td>\n",
       "      <td>54771.578125</td>\n",
       "      <td>3.952779e+10</td>\n",
       "      <td>3.249121e+10</td>\n",
       "      <td>1023.039063</td>\n",
       "      <td>0</td>\n",
       "      <td>1023</td>\n",
       "    </tr>\n",
       "    <tr>\n",
       "      <th>2021-10-11</th>\n",
       "      <td>54734.125000</td>\n",
       "      <td>57793.039063</td>\n",
       "      <td>54519.765625</td>\n",
       "      <td>57484.789063</td>\n",
       "      <td>4.263733e+10</td>\n",
       "      <td>3.952779e+10</td>\n",
       "      <td>-218.695313</td>\n",
       "      <td>-218</td>\n",
       "      <td>0</td>\n",
       "    </tr>\n",
       "    <tr>\n",
       "      <th>2021-10-12</th>\n",
       "      <td>57526.832031</td>\n",
       "      <td>57627.878906</td>\n",
       "      <td>54477.972656</td>\n",
       "      <td>56041.058594</td>\n",
       "      <td>4.108376e+10</td>\n",
       "      <td>4.263733e+10</td>\n",
       "      <td>2792.707031</td>\n",
       "      <td>0</td>\n",
       "      <td>2792</td>\n",
       "    </tr>\n",
       "  </tbody>\n",
       "</table>\n",
       "<p>1745 rows × 9 columns</p>\n",
       "</div>"
      ],
      "text/plain": [
       "                    Open          High           Low         Close  \\\n",
       "Date                                                                 \n",
       "2017-01-02    998.617004   1031.390015    996.702026   1021.750000   \n",
       "2017-01-03   1021.599976   1044.079956   1021.599976   1043.839966   \n",
       "2017-01-04   1044.400024   1159.420044   1044.400024   1154.729980   \n",
       "2017-01-05   1156.729980   1191.099976    910.416992   1013.380005   \n",
       "2017-01-06   1014.239990   1046.810059    883.943970    902.200989   \n",
       "...                  ...           ...           ...           ...   \n",
       "2021-10-08  53802.144531  55922.980469  53688.054688  53967.847656   \n",
       "2021-10-09  53929.781250  55397.945313  53735.144531  54968.222656   \n",
       "2021-10-10  54952.820313  56401.304688  54264.257813  54771.578125   \n",
       "2021-10-11  54734.125000  57793.039063  54519.765625  57484.789063   \n",
       "2021-10-12  57526.832031  57627.878906  54477.972656  56041.058594   \n",
       "\n",
       "                  Volume   Volume_past       Change  Loss  Gain  \n",
       "Date                                                             \n",
       "2017-01-02  2.221850e+08  1.477750e+08    34.958984     0    34  \n",
       "2017-01-03  1.851680e+08  2.221850e+08    22.982972     0    22  \n",
       "2017-01-04  3.449460e+08  1.851680e+08    22.800048     0    22  \n",
       "2017-01-05  5.101990e+08  3.449460e+08   112.329956     0   112  \n",
       "2017-01-06  3.518760e+08  5.101990e+08  -142.489990  -142     0  \n",
       "...                  ...           ...          ...   ...   ...  \n",
       "2021-10-08  3.480087e+10  3.680786e+10 -1536.480469 -1536     0  \n",
       "2021-10-09  3.249121e+10  3.480087e+10   127.636719     0   127  \n",
       "2021-10-10  3.952779e+10  3.249121e+10  1023.039063     0  1023  \n",
       "2021-10-11  4.263733e+10  3.952779e+10  -218.695313  -218     0  \n",
       "2021-10-12  4.108376e+10  4.263733e+10  2792.707031     0  2792  \n",
       "\n",
       "[1745 rows x 9 columns]"
      ]
     },
     "execution_count": 1427,
     "metadata": {},
     "output_type": "execute_result"
    }
   ],
   "source": [
    "df['Loss']=0\n",
    "df['Gain']=0\n",
    "\n",
    "for i in range(len(df)):\n",
    "    if df['Change'][i]>=0:\n",
    "        df['Gain'][i] = df['Change'][i]\n",
    "    else:\n",
    "        df['Loss'][i] = df['Change'][i]\n",
    "df"
   ]
  },
  {
   "cell_type": "code",
   "execution_count": 1428,
   "id": "69cfa51d",
   "metadata": {},
   "outputs": [],
   "source": [
    "df['Loss'] = df.Loss*(-1)"
   ]
  },
  {
   "cell_type": "code",
   "execution_count": 1429,
   "id": "d9ad8141",
   "metadata": {},
   "outputs": [],
   "source": [
    "avg = pd.DataFrame()"
   ]
  },
  {
   "cell_type": "code",
   "execution_count": 1430,
   "id": "152dc530",
   "metadata": {},
   "outputs": [],
   "source": [
    "avg['avg_gain']= df['Gain'].rolling(window=14).mean().dropna()\n",
    "avg['avg_loss']= df['Loss'].rolling(window=14).mean().dropna()"
   ]
  },
  {
   "cell_type": "code",
   "execution_count": 1431,
   "id": "f85299bf",
   "metadata": {},
   "outputs": [],
   "source": [
    "df = pd.concat([df,avg],axis = 1)"
   ]
  },
  {
   "cell_type": "code",
   "execution_count": 1432,
   "id": "5104f220",
   "metadata": {},
   "outputs": [
    {
     "data": {
      "text/html": [
       "<div>\n",
       "<style scoped>\n",
       "    .dataframe tbody tr th:only-of-type {\n",
       "        vertical-align: middle;\n",
       "    }\n",
       "\n",
       "    .dataframe tbody tr th {\n",
       "        vertical-align: top;\n",
       "    }\n",
       "\n",
       "    .dataframe thead th {\n",
       "        text-align: right;\n",
       "    }\n",
       "</style>\n",
       "<table border=\"1\" class=\"dataframe\">\n",
       "  <thead>\n",
       "    <tr style=\"text-align: right;\">\n",
       "      <th></th>\n",
       "      <th>Open</th>\n",
       "      <th>High</th>\n",
       "      <th>Low</th>\n",
       "      <th>Close</th>\n",
       "      <th>Volume</th>\n",
       "      <th>Volume_past</th>\n",
       "      <th>Change</th>\n",
       "      <th>Loss</th>\n",
       "      <th>Gain</th>\n",
       "      <th>avg_gain</th>\n",
       "      <th>avg_loss</th>\n",
       "    </tr>\n",
       "    <tr>\n",
       "      <th>Date</th>\n",
       "      <th></th>\n",
       "      <th></th>\n",
       "      <th></th>\n",
       "      <th></th>\n",
       "      <th></th>\n",
       "      <th></th>\n",
       "      <th></th>\n",
       "      <th></th>\n",
       "      <th></th>\n",
       "      <th></th>\n",
       "      <th></th>\n",
       "    </tr>\n",
       "  </thead>\n",
       "  <tbody>\n",
       "    <tr>\n",
       "      <th>2017-01-02</th>\n",
       "      <td>998.617004</td>\n",
       "      <td>1031.390015</td>\n",
       "      <td>996.702026</td>\n",
       "      <td>1021.750000</td>\n",
       "      <td>222184992.0</td>\n",
       "      <td>147775008.0</td>\n",
       "      <td>34.958984</td>\n",
       "      <td>0</td>\n",
       "      <td>34</td>\n",
       "      <td>NaN</td>\n",
       "      <td>NaN</td>\n",
       "    </tr>\n",
       "    <tr>\n",
       "      <th>2017-01-03</th>\n",
       "      <td>1021.599976</td>\n",
       "      <td>1044.079956</td>\n",
       "      <td>1021.599976</td>\n",
       "      <td>1043.839966</td>\n",
       "      <td>185168000.0</td>\n",
       "      <td>222184992.0</td>\n",
       "      <td>22.982972</td>\n",
       "      <td>0</td>\n",
       "      <td>22</td>\n",
       "      <td>NaN</td>\n",
       "      <td>NaN</td>\n",
       "    </tr>\n",
       "    <tr>\n",
       "      <th>2017-01-04</th>\n",
       "      <td>1044.400024</td>\n",
       "      <td>1159.420044</td>\n",
       "      <td>1044.400024</td>\n",
       "      <td>1154.729980</td>\n",
       "      <td>344945984.0</td>\n",
       "      <td>185168000.0</td>\n",
       "      <td>22.800048</td>\n",
       "      <td>0</td>\n",
       "      <td>22</td>\n",
       "      <td>NaN</td>\n",
       "      <td>NaN</td>\n",
       "    </tr>\n",
       "    <tr>\n",
       "      <th>2017-01-05</th>\n",
       "      <td>1156.729980</td>\n",
       "      <td>1191.099976</td>\n",
       "      <td>910.416992</td>\n",
       "      <td>1013.380005</td>\n",
       "      <td>510199008.0</td>\n",
       "      <td>344945984.0</td>\n",
       "      <td>112.329956</td>\n",
       "      <td>0</td>\n",
       "      <td>112</td>\n",
       "      <td>NaN</td>\n",
       "      <td>NaN</td>\n",
       "    </tr>\n",
       "    <tr>\n",
       "      <th>2017-01-06</th>\n",
       "      <td>1014.239990</td>\n",
       "      <td>1046.810059</td>\n",
       "      <td>883.943970</td>\n",
       "      <td>902.200989</td>\n",
       "      <td>351876000.0</td>\n",
       "      <td>510199008.0</td>\n",
       "      <td>-142.489990</td>\n",
       "      <td>142</td>\n",
       "      <td>0</td>\n",
       "      <td>NaN</td>\n",
       "      <td>NaN</td>\n",
       "    </tr>\n",
       "    <tr>\n",
       "      <th>2017-01-07</th>\n",
       "      <td>903.487000</td>\n",
       "      <td>908.585022</td>\n",
       "      <td>823.556030</td>\n",
       "      <td>908.585022</td>\n",
       "      <td>279550016.0</td>\n",
       "      <td>351876000.0</td>\n",
       "      <td>-110.752990</td>\n",
       "      <td>110</td>\n",
       "      <td>0</td>\n",
       "      <td>NaN</td>\n",
       "      <td>NaN</td>\n",
       "    </tr>\n",
       "    <tr>\n",
       "      <th>2017-01-08</th>\n",
       "      <td>908.174988</td>\n",
       "      <td>942.723999</td>\n",
       "      <td>887.249023</td>\n",
       "      <td>911.198975</td>\n",
       "      <td>158715008.0</td>\n",
       "      <td>279550016.0</td>\n",
       "      <td>4.687988</td>\n",
       "      <td>0</td>\n",
       "      <td>4</td>\n",
       "      <td>NaN</td>\n",
       "      <td>NaN</td>\n",
       "    </tr>\n",
       "    <tr>\n",
       "      <th>2017-01-09</th>\n",
       "      <td>913.244019</td>\n",
       "      <td>913.685974</td>\n",
       "      <td>879.807007</td>\n",
       "      <td>902.828003</td>\n",
       "      <td>141876992.0</td>\n",
       "      <td>158715008.0</td>\n",
       "      <td>5.069031</td>\n",
       "      <td>0</td>\n",
       "      <td>5</td>\n",
       "      <td>NaN</td>\n",
       "      <td>NaN</td>\n",
       "    </tr>\n",
       "    <tr>\n",
       "      <th>2017-01-10</th>\n",
       "      <td>902.440002</td>\n",
       "      <td>914.872986</td>\n",
       "      <td>901.059998</td>\n",
       "      <td>907.679016</td>\n",
       "      <td>115808000.0</td>\n",
       "      <td>141876992.0</td>\n",
       "      <td>-10.804017</td>\n",
       "      <td>10</td>\n",
       "      <td>0</td>\n",
       "      <td>NaN</td>\n",
       "      <td>NaN</td>\n",
       "    </tr>\n",
       "    <tr>\n",
       "      <th>2017-01-11</th>\n",
       "      <td>908.114990</td>\n",
       "      <td>919.447998</td>\n",
       "      <td>762.765015</td>\n",
       "      <td>777.757019</td>\n",
       "      <td>310928992.0</td>\n",
       "      <td>115808000.0</td>\n",
       "      <td>5.674988</td>\n",
       "      <td>0</td>\n",
       "      <td>5</td>\n",
       "      <td>NaN</td>\n",
       "      <td>NaN</td>\n",
       "    </tr>\n",
       "    <tr>\n",
       "      <th>2017-01-12</th>\n",
       "      <td>775.177979</td>\n",
       "      <td>826.245972</td>\n",
       "      <td>755.755981</td>\n",
       "      <td>804.833984</td>\n",
       "      <td>222326000.0</td>\n",
       "      <td>310928992.0</td>\n",
       "      <td>-132.937011</td>\n",
       "      <td>132</td>\n",
       "      <td>0</td>\n",
       "      <td>NaN</td>\n",
       "      <td>NaN</td>\n",
       "    </tr>\n",
       "    <tr>\n",
       "      <th>2017-01-13</th>\n",
       "      <td>803.737000</td>\n",
       "      <td>829.000977</td>\n",
       "      <td>780.002991</td>\n",
       "      <td>823.984009</td>\n",
       "      <td>168968000.0</td>\n",
       "      <td>222326000.0</td>\n",
       "      <td>28.559021</td>\n",
       "      <td>0</td>\n",
       "      <td>28</td>\n",
       "      <td>NaN</td>\n",
       "      <td>NaN</td>\n",
       "    </tr>\n",
       "    <tr>\n",
       "      <th>2017-01-14</th>\n",
       "      <td>825.142029</td>\n",
       "      <td>835.085022</td>\n",
       "      <td>812.455994</td>\n",
       "      <td>818.411987</td>\n",
       "      <td>93063296.0</td>\n",
       "      <td>168968000.0</td>\n",
       "      <td>21.405029</td>\n",
       "      <td>0</td>\n",
       "      <td>21</td>\n",
       "      <td>NaN</td>\n",
       "      <td>NaN</td>\n",
       "    </tr>\n",
       "    <tr>\n",
       "      <th>2017-01-15</th>\n",
       "      <td>818.142029</td>\n",
       "      <td>823.307007</td>\n",
       "      <td>812.870972</td>\n",
       "      <td>821.797974</td>\n",
       "      <td>71013600.0</td>\n",
       "      <td>93063296.0</td>\n",
       "      <td>-7.000000</td>\n",
       "      <td>7</td>\n",
       "      <td>0</td>\n",
       "      <td>18.071429</td>\n",
       "      <td>28.642857</td>\n",
       "    </tr>\n",
       "    <tr>\n",
       "      <th>2017-01-16</th>\n",
       "      <td>821.783020</td>\n",
       "      <td>834.530029</td>\n",
       "      <td>820.270996</td>\n",
       "      <td>831.533997</td>\n",
       "      <td>82755200.0</td>\n",
       "      <td>71013600.0</td>\n",
       "      <td>3.640991</td>\n",
       "      <td>0</td>\n",
       "      <td>3</td>\n",
       "      <td>15.857143</td>\n",
       "      <td>28.642857</td>\n",
       "    </tr>\n",
       "    <tr>\n",
       "      <th>2017-01-17</th>\n",
       "      <td>830.945984</td>\n",
       "      <td>910.560974</td>\n",
       "      <td>830.796021</td>\n",
       "      <td>907.937988</td>\n",
       "      <td>155095008.0</td>\n",
       "      <td>82755200.0</td>\n",
       "      <td>9.162964</td>\n",
       "      <td>0</td>\n",
       "      <td>9</td>\n",
       "      <td>14.928571</td>\n",
       "      <td>28.642857</td>\n",
       "    </tr>\n",
       "    <tr>\n",
       "      <th>2017-01-18</th>\n",
       "      <td>909.372986</td>\n",
       "      <td>917.499023</td>\n",
       "      <td>858.304016</td>\n",
       "      <td>886.617981</td>\n",
       "      <td>225676992.0</td>\n",
       "      <td>155095008.0</td>\n",
       "      <td>78.427002</td>\n",
       "      <td>0</td>\n",
       "      <td>78</td>\n",
       "      <td>18.928571</td>\n",
       "      <td>28.642857</td>\n",
       "    </tr>\n",
       "    <tr>\n",
       "      <th>2017-01-19</th>\n",
       "      <td>888.335022</td>\n",
       "      <td>904.614014</td>\n",
       "      <td>884.338013</td>\n",
       "      <td>899.072998</td>\n",
       "      <td>105625000.0</td>\n",
       "      <td>225676992.0</td>\n",
       "      <td>-21.037964</td>\n",
       "      <td>21</td>\n",
       "      <td>0</td>\n",
       "      <td>10.928571</td>\n",
       "      <td>30.142857</td>\n",
       "    </tr>\n",
       "    <tr>\n",
       "      <th>2017-01-20</th>\n",
       "      <td>898.171997</td>\n",
       "      <td>899.398010</td>\n",
       "      <td>887.007996</td>\n",
       "      <td>895.026001</td>\n",
       "      <td>86728400.0</td>\n",
       "      <td>105625000.0</td>\n",
       "      <td>9.836975</td>\n",
       "      <td>0</td>\n",
       "      <td>9</td>\n",
       "      <td>11.571429</td>\n",
       "      <td>20.000000</td>\n",
       "    </tr>\n",
       "    <tr>\n",
       "      <th>2017-01-21</th>\n",
       "      <td>895.549011</td>\n",
       "      <td>927.367004</td>\n",
       "      <td>895.534973</td>\n",
       "      <td>921.789001</td>\n",
       "      <td>111158000.0</td>\n",
       "      <td>86728400.0</td>\n",
       "      <td>-2.622986</td>\n",
       "      <td>2</td>\n",
       "      <td>0</td>\n",
       "      <td>11.571429</td>\n",
       "      <td>12.285714</td>\n",
       "    </tr>\n",
       "  </tbody>\n",
       "</table>\n",
       "</div>"
      ],
      "text/plain": [
       "                   Open         High          Low        Close       Volume  \\\n",
       "Date                                                                          \n",
       "2017-01-02   998.617004  1031.390015   996.702026  1021.750000  222184992.0   \n",
       "2017-01-03  1021.599976  1044.079956  1021.599976  1043.839966  185168000.0   \n",
       "2017-01-04  1044.400024  1159.420044  1044.400024  1154.729980  344945984.0   \n",
       "2017-01-05  1156.729980  1191.099976   910.416992  1013.380005  510199008.0   \n",
       "2017-01-06  1014.239990  1046.810059   883.943970   902.200989  351876000.0   \n",
       "2017-01-07   903.487000   908.585022   823.556030   908.585022  279550016.0   \n",
       "2017-01-08   908.174988   942.723999   887.249023   911.198975  158715008.0   \n",
       "2017-01-09   913.244019   913.685974   879.807007   902.828003  141876992.0   \n",
       "2017-01-10   902.440002   914.872986   901.059998   907.679016  115808000.0   \n",
       "2017-01-11   908.114990   919.447998   762.765015   777.757019  310928992.0   \n",
       "2017-01-12   775.177979   826.245972   755.755981   804.833984  222326000.0   \n",
       "2017-01-13   803.737000   829.000977   780.002991   823.984009  168968000.0   \n",
       "2017-01-14   825.142029   835.085022   812.455994   818.411987   93063296.0   \n",
       "2017-01-15   818.142029   823.307007   812.870972   821.797974   71013600.0   \n",
       "2017-01-16   821.783020   834.530029   820.270996   831.533997   82755200.0   \n",
       "2017-01-17   830.945984   910.560974   830.796021   907.937988  155095008.0   \n",
       "2017-01-18   909.372986   917.499023   858.304016   886.617981  225676992.0   \n",
       "2017-01-19   888.335022   904.614014   884.338013   899.072998  105625000.0   \n",
       "2017-01-20   898.171997   899.398010   887.007996   895.026001   86728400.0   \n",
       "2017-01-21   895.549011   927.367004   895.534973   921.789001  111158000.0   \n",
       "\n",
       "            Volume_past      Change  Loss  Gain   avg_gain   avg_loss  \n",
       "Date                                                                   \n",
       "2017-01-02  147775008.0   34.958984     0    34        NaN        NaN  \n",
       "2017-01-03  222184992.0   22.982972     0    22        NaN        NaN  \n",
       "2017-01-04  185168000.0   22.800048     0    22        NaN        NaN  \n",
       "2017-01-05  344945984.0  112.329956     0   112        NaN        NaN  \n",
       "2017-01-06  510199008.0 -142.489990   142     0        NaN        NaN  \n",
       "2017-01-07  351876000.0 -110.752990   110     0        NaN        NaN  \n",
       "2017-01-08  279550016.0    4.687988     0     4        NaN        NaN  \n",
       "2017-01-09  158715008.0    5.069031     0     5        NaN        NaN  \n",
       "2017-01-10  141876992.0  -10.804017    10     0        NaN        NaN  \n",
       "2017-01-11  115808000.0    5.674988     0     5        NaN        NaN  \n",
       "2017-01-12  310928992.0 -132.937011   132     0        NaN        NaN  \n",
       "2017-01-13  222326000.0   28.559021     0    28        NaN        NaN  \n",
       "2017-01-14  168968000.0   21.405029     0    21        NaN        NaN  \n",
       "2017-01-15   93063296.0   -7.000000     7     0  18.071429  28.642857  \n",
       "2017-01-16   71013600.0    3.640991     0     3  15.857143  28.642857  \n",
       "2017-01-17   82755200.0    9.162964     0     9  14.928571  28.642857  \n",
       "2017-01-18  155095008.0   78.427002     0    78  18.928571  28.642857  \n",
       "2017-01-19  225676992.0  -21.037964    21     0  10.928571  30.142857  \n",
       "2017-01-20  105625000.0    9.836975     0     9  11.571429  20.000000  \n",
       "2017-01-21   86728400.0   -2.622986     2     0  11.571429  12.285714  "
      ]
     },
     "execution_count": 1432,
     "metadata": {},
     "output_type": "execute_result"
    }
   ],
   "source": [
    "df.head(20)"
   ]
  },
  {
   "cell_type": "code",
   "execution_count": 1433,
   "id": "71e817d4",
   "metadata": {},
   "outputs": [
    {
     "data": {
      "text/plain": [
       "DatetimeIndex(['2017-01-02', '2017-01-03', '2017-01-04', '2017-01-05',\n",
       "               '2017-01-06', '2017-01-07', '2017-01-08', '2017-01-09',\n",
       "               '2017-01-10', '2017-01-11', '2017-01-12', '2017-01-13',\n",
       "               '2017-01-14'],\n",
       "              dtype='datetime64[ns]', name='Date', freq='D')"
      ]
     },
     "execution_count": 1433,
     "metadata": {},
     "output_type": "execute_result"
    }
   ],
   "source": [
    "null = df.isnull()\n",
    "nulos = null[null['avg_gain']==True].index\n",
    "nulos"
   ]
  },
  {
   "cell_type": "code",
   "execution_count": 1434,
   "id": "42c19b8c",
   "metadata": {},
   "outputs": [
    {
     "data": {
      "text/plain": [
       "count    1732.000000\n",
       "mean      219.767610\n",
       "std       283.308778\n",
       "min         4.428571\n",
       "25%        48.482143\n",
       "50%        96.107143\n",
       "75%       238.142857\n",
       "max      1585.214286\n",
       "Name: avg_gain, dtype: float64"
      ]
     },
     "execution_count": 1434,
     "metadata": {},
     "output_type": "execute_result"
    }
   ],
   "source": [
    "df['avg_gain'].describe()"
   ]
  },
  {
   "cell_type": "code",
   "execution_count": 1435,
   "id": "4508f9f8",
   "metadata": {},
   "outputs": [],
   "source": [
    "RS = df['avg_gain'] / df['avg_loss']\n",
    "df['RSI'] = 100 - (100 / (1 + RS ))"
   ]
  },
  {
   "cell_type": "code",
   "execution_count": 1436,
   "id": "2607dd42",
   "metadata": {},
   "outputs": [
    {
     "data": {
      "text/html": [
       "<div>\n",
       "<style scoped>\n",
       "    .dataframe tbody tr th:only-of-type {\n",
       "        vertical-align: middle;\n",
       "    }\n",
       "\n",
       "    .dataframe tbody tr th {\n",
       "        vertical-align: top;\n",
       "    }\n",
       "\n",
       "    .dataframe thead th {\n",
       "        text-align: right;\n",
       "    }\n",
       "</style>\n",
       "<table border=\"1\" class=\"dataframe\">\n",
       "  <thead>\n",
       "    <tr style=\"text-align: right;\">\n",
       "      <th></th>\n",
       "      <th>Open</th>\n",
       "      <th>High</th>\n",
       "      <th>Low</th>\n",
       "      <th>Close</th>\n",
       "      <th>Volume</th>\n",
       "      <th>Volume_past</th>\n",
       "      <th>Change</th>\n",
       "      <th>Loss</th>\n",
       "      <th>Gain</th>\n",
       "      <th>avg_gain</th>\n",
       "      <th>avg_loss</th>\n",
       "      <th>RSI</th>\n",
       "    </tr>\n",
       "    <tr>\n",
       "      <th>Date</th>\n",
       "      <th></th>\n",
       "      <th></th>\n",
       "      <th></th>\n",
       "      <th></th>\n",
       "      <th></th>\n",
       "      <th></th>\n",
       "      <th></th>\n",
       "      <th></th>\n",
       "      <th></th>\n",
       "      <th></th>\n",
       "      <th></th>\n",
       "      <th></th>\n",
       "    </tr>\n",
       "  </thead>\n",
       "  <tbody>\n",
       "    <tr>\n",
       "      <th>2017-01-17</th>\n",
       "      <td>830.945984</td>\n",
       "      <td>910.560974</td>\n",
       "      <td>830.796021</td>\n",
       "      <td>907.937988</td>\n",
       "      <td>155095008.0</td>\n",
       "      <td>82755200.0</td>\n",
       "      <td>9.162964</td>\n",
       "      <td>0</td>\n",
       "      <td>9</td>\n",
       "      <td>14.928571</td>\n",
       "      <td>28.642857</td>\n",
       "      <td>34.262295</td>\n",
       "    </tr>\n",
       "    <tr>\n",
       "      <th>2017-01-18</th>\n",
       "      <td>909.372986</td>\n",
       "      <td>917.499023</td>\n",
       "      <td>858.304016</td>\n",
       "      <td>886.617981</td>\n",
       "      <td>225676992.0</td>\n",
       "      <td>155095008.0</td>\n",
       "      <td>78.427002</td>\n",
       "      <td>0</td>\n",
       "      <td>78</td>\n",
       "      <td>18.928571</td>\n",
       "      <td>28.642857</td>\n",
       "      <td>39.789790</td>\n",
       "    </tr>\n",
       "    <tr>\n",
       "      <th>2017-01-19</th>\n",
       "      <td>888.335022</td>\n",
       "      <td>904.614014</td>\n",
       "      <td>884.338013</td>\n",
       "      <td>899.072998</td>\n",
       "      <td>105625000.0</td>\n",
       "      <td>225676992.0</td>\n",
       "      <td>-21.037964</td>\n",
       "      <td>21</td>\n",
       "      <td>0</td>\n",
       "      <td>10.928571</td>\n",
       "      <td>30.142857</td>\n",
       "      <td>26.608696</td>\n",
       "    </tr>\n",
       "    <tr>\n",
       "      <th>2017-01-20</th>\n",
       "      <td>898.171997</td>\n",
       "      <td>899.398010</td>\n",
       "      <td>887.007996</td>\n",
       "      <td>895.026001</td>\n",
       "      <td>86728400.0</td>\n",
       "      <td>105625000.0</td>\n",
       "      <td>9.836975</td>\n",
       "      <td>0</td>\n",
       "      <td>9</td>\n",
       "      <td>11.571429</td>\n",
       "      <td>20.000000</td>\n",
       "      <td>36.651584</td>\n",
       "    </tr>\n",
       "    <tr>\n",
       "      <th>2017-01-21</th>\n",
       "      <td>895.549011</td>\n",
       "      <td>927.367004</td>\n",
       "      <td>895.534973</td>\n",
       "      <td>921.789001</td>\n",
       "      <td>111158000.0</td>\n",
       "      <td>86728400.0</td>\n",
       "      <td>-2.622986</td>\n",
       "      <td>2</td>\n",
       "      <td>0</td>\n",
       "      <td>11.571429</td>\n",
       "      <td>12.285714</td>\n",
       "      <td>48.502994</td>\n",
       "    </tr>\n",
       "    <tr>\n",
       "      <th>2017-01-22</th>\n",
       "      <td>922.205017</td>\n",
       "      <td>937.525024</td>\n",
       "      <td>897.564026</td>\n",
       "      <td>924.672974</td>\n",
       "      <td>116573000.0</td>\n",
       "      <td>111158000.0</td>\n",
       "      <td>26.656006</td>\n",
       "      <td>0</td>\n",
       "      <td>26</td>\n",
       "      <td>13.142857</td>\n",
       "      <td>12.285714</td>\n",
       "      <td>51.685393</td>\n",
       "    </tr>\n",
       "    <tr>\n",
       "      <th>2017-01-23</th>\n",
       "      <td>925.499023</td>\n",
       "      <td>928.265991</td>\n",
       "      <td>916.737976</td>\n",
       "      <td>921.012024</td>\n",
       "      <td>73588600.0</td>\n",
       "      <td>116573000.0</td>\n",
       "      <td>3.294006</td>\n",
       "      <td>0</td>\n",
       "      <td>3</td>\n",
       "      <td>13.000000</td>\n",
       "      <td>12.285714</td>\n",
       "      <td>51.412429</td>\n",
       "    </tr>\n",
       "    <tr>\n",
       "      <th>2017-01-24</th>\n",
       "      <td>910.677002</td>\n",
       "      <td>924.145020</td>\n",
       "      <td>892.286011</td>\n",
       "      <td>892.687012</td>\n",
       "      <td>111349000.0</td>\n",
       "      <td>73588600.0</td>\n",
       "      <td>-14.822021</td>\n",
       "      <td>14</td>\n",
       "      <td>0</td>\n",
       "      <td>13.000000</td>\n",
       "      <td>12.571429</td>\n",
       "      <td>50.837989</td>\n",
       "    </tr>\n",
       "    <tr>\n",
       "      <th>2017-01-25</th>\n",
       "      <td>891.924011</td>\n",
       "      <td>903.252014</td>\n",
       "      <td>891.687012</td>\n",
       "      <td>901.541992</td>\n",
       "      <td>120831000.0</td>\n",
       "      <td>111349000.0</td>\n",
       "      <td>-18.752991</td>\n",
       "      <td>18</td>\n",
       "      <td>0</td>\n",
       "      <td>12.642857</td>\n",
       "      <td>13.857143</td>\n",
       "      <td>47.708895</td>\n",
       "    </tr>\n",
       "    <tr>\n",
       "      <th>2017-01-26</th>\n",
       "      <td>902.395020</td>\n",
       "      <td>919.325989</td>\n",
       "      <td>902.223999</td>\n",
       "      <td>917.585999</td>\n",
       "      <td>131958000.0</td>\n",
       "      <td>120831000.0</td>\n",
       "      <td>10.471009</td>\n",
       "      <td>0</td>\n",
       "      <td>10</td>\n",
       "      <td>13.357143</td>\n",
       "      <td>4.428571</td>\n",
       "      <td>75.100402</td>\n",
       "    </tr>\n",
       "  </tbody>\n",
       "</table>\n",
       "</div>"
      ],
      "text/plain": [
       "                  Open        High         Low       Close       Volume  \\\n",
       "Date                                                                      \n",
       "2017-01-17  830.945984  910.560974  830.796021  907.937988  155095008.0   \n",
       "2017-01-18  909.372986  917.499023  858.304016  886.617981  225676992.0   \n",
       "2017-01-19  888.335022  904.614014  884.338013  899.072998  105625000.0   \n",
       "2017-01-20  898.171997  899.398010  887.007996  895.026001   86728400.0   \n",
       "2017-01-21  895.549011  927.367004  895.534973  921.789001  111158000.0   \n",
       "2017-01-22  922.205017  937.525024  897.564026  924.672974  116573000.0   \n",
       "2017-01-23  925.499023  928.265991  916.737976  921.012024   73588600.0   \n",
       "2017-01-24  910.677002  924.145020  892.286011  892.687012  111349000.0   \n",
       "2017-01-25  891.924011  903.252014  891.687012  901.541992  120831000.0   \n",
       "2017-01-26  902.395020  919.325989  902.223999  917.585999  131958000.0   \n",
       "\n",
       "            Volume_past     Change  Loss  Gain   avg_gain   avg_loss  \\\n",
       "Date                                                                   \n",
       "2017-01-17   82755200.0   9.162964     0     9  14.928571  28.642857   \n",
       "2017-01-18  155095008.0  78.427002     0    78  18.928571  28.642857   \n",
       "2017-01-19  225676992.0 -21.037964    21     0  10.928571  30.142857   \n",
       "2017-01-20  105625000.0   9.836975     0     9  11.571429  20.000000   \n",
       "2017-01-21   86728400.0  -2.622986     2     0  11.571429  12.285714   \n",
       "2017-01-22  111158000.0  26.656006     0    26  13.142857  12.285714   \n",
       "2017-01-23  116573000.0   3.294006     0     3  13.000000  12.285714   \n",
       "2017-01-24   73588600.0 -14.822021    14     0  13.000000  12.571429   \n",
       "2017-01-25  111349000.0 -18.752991    18     0  12.642857  13.857143   \n",
       "2017-01-26  120831000.0  10.471009     0    10  13.357143   4.428571   \n",
       "\n",
       "                  RSI  \n",
       "Date                   \n",
       "2017-01-17  34.262295  \n",
       "2017-01-18  39.789790  \n",
       "2017-01-19  26.608696  \n",
       "2017-01-20  36.651584  \n",
       "2017-01-21  48.502994  \n",
       "2017-01-22  51.685393  \n",
       "2017-01-23  51.412429  \n",
       "2017-01-24  50.837989  \n",
       "2017-01-25  47.708895  \n",
       "2017-01-26  75.100402  "
      ]
     },
     "execution_count": 1436,
     "metadata": {},
     "output_type": "execute_result"
    }
   ],
   "source": [
    "df[15:25]"
   ]
  },
  {
   "cell_type": "markdown",
   "id": "44d09cfd",
   "metadata": {},
   "source": [
    "## RSI"
   ]
  },
  {
   "cell_type": "code",
   "execution_count": 1437,
   "id": "e6c1bac5",
   "metadata": {},
   "outputs": [
    {
     "data": {
      "text/plain": [
       "count    1732.000000\n",
       "mean       54.750121\n",
       "std        19.005043\n",
       "min         4.694280\n",
       "25%        40.876342\n",
       "50%        55.092487\n",
       "75%        67.950862\n",
       "max       100.000000\n",
       "Name: RSI, dtype: float64"
      ]
     },
     "execution_count": 1437,
     "metadata": {},
     "output_type": "execute_result"
    }
   ],
   "source": [
    "df.RSI.describe()"
   ]
  },
  {
   "cell_type": "code",
   "execution_count": 1438,
   "id": "3566abce",
   "metadata": {},
   "outputs": [
    {
     "data": {
      "text/html": [
       "<div>\n",
       "<style scoped>\n",
       "    .dataframe tbody tr th:only-of-type {\n",
       "        vertical-align: middle;\n",
       "    }\n",
       "\n",
       "    .dataframe tbody tr th {\n",
       "        vertical-align: top;\n",
       "    }\n",
       "\n",
       "    .dataframe thead th {\n",
       "        text-align: right;\n",
       "    }\n",
       "</style>\n",
       "<table border=\"1\" class=\"dataframe\">\n",
       "  <thead>\n",
       "    <tr style=\"text-align: right;\">\n",
       "      <th></th>\n",
       "      <th>Open</th>\n",
       "      <th>High</th>\n",
       "      <th>Low</th>\n",
       "      <th>Close</th>\n",
       "      <th>Volume</th>\n",
       "      <th>Volume_past</th>\n",
       "      <th>Change</th>\n",
       "      <th>Loss</th>\n",
       "      <th>Gain</th>\n",
       "      <th>avg_gain</th>\n",
       "      <th>avg_loss</th>\n",
       "      <th>RSI</th>\n",
       "    </tr>\n",
       "    <tr>\n",
       "      <th>Date</th>\n",
       "      <th></th>\n",
       "      <th></th>\n",
       "      <th></th>\n",
       "      <th></th>\n",
       "      <th></th>\n",
       "      <th></th>\n",
       "      <th></th>\n",
       "      <th></th>\n",
       "      <th></th>\n",
       "      <th></th>\n",
       "      <th></th>\n",
       "      <th></th>\n",
       "    </tr>\n",
       "  </thead>\n",
       "  <tbody>\n",
       "    <tr>\n",
       "      <th>2017-01-02</th>\n",
       "      <td>998.617004</td>\n",
       "      <td>1031.390015</td>\n",
       "      <td>996.702026</td>\n",
       "      <td>1021.750000</td>\n",
       "      <td>222184992.0</td>\n",
       "      <td>147775008.0</td>\n",
       "      <td>34.958984</td>\n",
       "      <td>0</td>\n",
       "      <td>34</td>\n",
       "      <td>NaN</td>\n",
       "      <td>NaN</td>\n",
       "      <td>NaN</td>\n",
       "    </tr>\n",
       "    <tr>\n",
       "      <th>2017-01-03</th>\n",
       "      <td>1021.599976</td>\n",
       "      <td>1044.079956</td>\n",
       "      <td>1021.599976</td>\n",
       "      <td>1043.839966</td>\n",
       "      <td>185168000.0</td>\n",
       "      <td>222184992.0</td>\n",
       "      <td>22.982972</td>\n",
       "      <td>0</td>\n",
       "      <td>22</td>\n",
       "      <td>NaN</td>\n",
       "      <td>NaN</td>\n",
       "      <td>NaN</td>\n",
       "    </tr>\n",
       "    <tr>\n",
       "      <th>2017-01-04</th>\n",
       "      <td>1044.400024</td>\n",
       "      <td>1159.420044</td>\n",
       "      <td>1044.400024</td>\n",
       "      <td>1154.729980</td>\n",
       "      <td>344945984.0</td>\n",
       "      <td>185168000.0</td>\n",
       "      <td>22.800048</td>\n",
       "      <td>0</td>\n",
       "      <td>22</td>\n",
       "      <td>NaN</td>\n",
       "      <td>NaN</td>\n",
       "      <td>NaN</td>\n",
       "    </tr>\n",
       "    <tr>\n",
       "      <th>2017-01-05</th>\n",
       "      <td>1156.729980</td>\n",
       "      <td>1191.099976</td>\n",
       "      <td>910.416992</td>\n",
       "      <td>1013.380005</td>\n",
       "      <td>510199008.0</td>\n",
       "      <td>344945984.0</td>\n",
       "      <td>112.329956</td>\n",
       "      <td>0</td>\n",
       "      <td>112</td>\n",
       "      <td>NaN</td>\n",
       "      <td>NaN</td>\n",
       "      <td>NaN</td>\n",
       "    </tr>\n",
       "    <tr>\n",
       "      <th>2017-01-06</th>\n",
       "      <td>1014.239990</td>\n",
       "      <td>1046.810059</td>\n",
       "      <td>883.943970</td>\n",
       "      <td>902.200989</td>\n",
       "      <td>351876000.0</td>\n",
       "      <td>510199008.0</td>\n",
       "      <td>-142.489990</td>\n",
       "      <td>142</td>\n",
       "      <td>0</td>\n",
       "      <td>NaN</td>\n",
       "      <td>NaN</td>\n",
       "      <td>NaN</td>\n",
       "    </tr>\n",
       "    <tr>\n",
       "      <th>2017-01-07</th>\n",
       "      <td>903.487000</td>\n",
       "      <td>908.585022</td>\n",
       "      <td>823.556030</td>\n",
       "      <td>908.585022</td>\n",
       "      <td>279550016.0</td>\n",
       "      <td>351876000.0</td>\n",
       "      <td>-110.752990</td>\n",
       "      <td>110</td>\n",
       "      <td>0</td>\n",
       "      <td>NaN</td>\n",
       "      <td>NaN</td>\n",
       "      <td>NaN</td>\n",
       "    </tr>\n",
       "    <tr>\n",
       "      <th>2017-01-08</th>\n",
       "      <td>908.174988</td>\n",
       "      <td>942.723999</td>\n",
       "      <td>887.249023</td>\n",
       "      <td>911.198975</td>\n",
       "      <td>158715008.0</td>\n",
       "      <td>279550016.0</td>\n",
       "      <td>4.687988</td>\n",
       "      <td>0</td>\n",
       "      <td>4</td>\n",
       "      <td>NaN</td>\n",
       "      <td>NaN</td>\n",
       "      <td>NaN</td>\n",
       "    </tr>\n",
       "    <tr>\n",
       "      <th>2017-01-09</th>\n",
       "      <td>913.244019</td>\n",
       "      <td>913.685974</td>\n",
       "      <td>879.807007</td>\n",
       "      <td>902.828003</td>\n",
       "      <td>141876992.0</td>\n",
       "      <td>158715008.0</td>\n",
       "      <td>5.069031</td>\n",
       "      <td>0</td>\n",
       "      <td>5</td>\n",
       "      <td>NaN</td>\n",
       "      <td>NaN</td>\n",
       "      <td>NaN</td>\n",
       "    </tr>\n",
       "    <tr>\n",
       "      <th>2017-01-10</th>\n",
       "      <td>902.440002</td>\n",
       "      <td>914.872986</td>\n",
       "      <td>901.059998</td>\n",
       "      <td>907.679016</td>\n",
       "      <td>115808000.0</td>\n",
       "      <td>141876992.0</td>\n",
       "      <td>-10.804017</td>\n",
       "      <td>10</td>\n",
       "      <td>0</td>\n",
       "      <td>NaN</td>\n",
       "      <td>NaN</td>\n",
       "      <td>NaN</td>\n",
       "    </tr>\n",
       "    <tr>\n",
       "      <th>2017-01-11</th>\n",
       "      <td>908.114990</td>\n",
       "      <td>919.447998</td>\n",
       "      <td>762.765015</td>\n",
       "      <td>777.757019</td>\n",
       "      <td>310928992.0</td>\n",
       "      <td>115808000.0</td>\n",
       "      <td>5.674988</td>\n",
       "      <td>0</td>\n",
       "      <td>5</td>\n",
       "      <td>NaN</td>\n",
       "      <td>NaN</td>\n",
       "      <td>NaN</td>\n",
       "    </tr>\n",
       "    <tr>\n",
       "      <th>2017-01-12</th>\n",
       "      <td>775.177979</td>\n",
       "      <td>826.245972</td>\n",
       "      <td>755.755981</td>\n",
       "      <td>804.833984</td>\n",
       "      <td>222326000.0</td>\n",
       "      <td>310928992.0</td>\n",
       "      <td>-132.937011</td>\n",
       "      <td>132</td>\n",
       "      <td>0</td>\n",
       "      <td>NaN</td>\n",
       "      <td>NaN</td>\n",
       "      <td>NaN</td>\n",
       "    </tr>\n",
       "    <tr>\n",
       "      <th>2017-01-13</th>\n",
       "      <td>803.737000</td>\n",
       "      <td>829.000977</td>\n",
       "      <td>780.002991</td>\n",
       "      <td>823.984009</td>\n",
       "      <td>168968000.0</td>\n",
       "      <td>222326000.0</td>\n",
       "      <td>28.559021</td>\n",
       "      <td>0</td>\n",
       "      <td>28</td>\n",
       "      <td>NaN</td>\n",
       "      <td>NaN</td>\n",
       "      <td>NaN</td>\n",
       "    </tr>\n",
       "    <tr>\n",
       "      <th>2017-01-14</th>\n",
       "      <td>825.142029</td>\n",
       "      <td>835.085022</td>\n",
       "      <td>812.455994</td>\n",
       "      <td>818.411987</td>\n",
       "      <td>93063296.0</td>\n",
       "      <td>168968000.0</td>\n",
       "      <td>21.405029</td>\n",
       "      <td>0</td>\n",
       "      <td>21</td>\n",
       "      <td>NaN</td>\n",
       "      <td>NaN</td>\n",
       "      <td>NaN</td>\n",
       "    </tr>\n",
       "    <tr>\n",
       "      <th>2017-01-15</th>\n",
       "      <td>818.142029</td>\n",
       "      <td>823.307007</td>\n",
       "      <td>812.870972</td>\n",
       "      <td>821.797974</td>\n",
       "      <td>71013600.0</td>\n",
       "      <td>93063296.0</td>\n",
       "      <td>-7.000000</td>\n",
       "      <td>7</td>\n",
       "      <td>0</td>\n",
       "      <td>18.071429</td>\n",
       "      <td>28.642857</td>\n",
       "      <td>38.685015</td>\n",
       "    </tr>\n",
       "    <tr>\n",
       "      <th>2017-01-16</th>\n",
       "      <td>821.783020</td>\n",
       "      <td>834.530029</td>\n",
       "      <td>820.270996</td>\n",
       "      <td>831.533997</td>\n",
       "      <td>82755200.0</td>\n",
       "      <td>71013600.0</td>\n",
       "      <td>3.640991</td>\n",
       "      <td>0</td>\n",
       "      <td>3</td>\n",
       "      <td>15.857143</td>\n",
       "      <td>28.642857</td>\n",
       "      <td>35.634029</td>\n",
       "    </tr>\n",
       "  </tbody>\n",
       "</table>\n",
       "</div>"
      ],
      "text/plain": [
       "                   Open         High          Low        Close       Volume  \\\n",
       "Date                                                                          \n",
       "2017-01-02   998.617004  1031.390015   996.702026  1021.750000  222184992.0   \n",
       "2017-01-03  1021.599976  1044.079956  1021.599976  1043.839966  185168000.0   \n",
       "2017-01-04  1044.400024  1159.420044  1044.400024  1154.729980  344945984.0   \n",
       "2017-01-05  1156.729980  1191.099976   910.416992  1013.380005  510199008.0   \n",
       "2017-01-06  1014.239990  1046.810059   883.943970   902.200989  351876000.0   \n",
       "2017-01-07   903.487000   908.585022   823.556030   908.585022  279550016.0   \n",
       "2017-01-08   908.174988   942.723999   887.249023   911.198975  158715008.0   \n",
       "2017-01-09   913.244019   913.685974   879.807007   902.828003  141876992.0   \n",
       "2017-01-10   902.440002   914.872986   901.059998   907.679016  115808000.0   \n",
       "2017-01-11   908.114990   919.447998   762.765015   777.757019  310928992.0   \n",
       "2017-01-12   775.177979   826.245972   755.755981   804.833984  222326000.0   \n",
       "2017-01-13   803.737000   829.000977   780.002991   823.984009  168968000.0   \n",
       "2017-01-14   825.142029   835.085022   812.455994   818.411987   93063296.0   \n",
       "2017-01-15   818.142029   823.307007   812.870972   821.797974   71013600.0   \n",
       "2017-01-16   821.783020   834.530029   820.270996   831.533997   82755200.0   \n",
       "\n",
       "            Volume_past      Change  Loss  Gain   avg_gain   avg_loss  \\\n",
       "Date                                                                    \n",
       "2017-01-02  147775008.0   34.958984     0    34        NaN        NaN   \n",
       "2017-01-03  222184992.0   22.982972     0    22        NaN        NaN   \n",
       "2017-01-04  185168000.0   22.800048     0    22        NaN        NaN   \n",
       "2017-01-05  344945984.0  112.329956     0   112        NaN        NaN   \n",
       "2017-01-06  510199008.0 -142.489990   142     0        NaN        NaN   \n",
       "2017-01-07  351876000.0 -110.752990   110     0        NaN        NaN   \n",
       "2017-01-08  279550016.0    4.687988     0     4        NaN        NaN   \n",
       "2017-01-09  158715008.0    5.069031     0     5        NaN        NaN   \n",
       "2017-01-10  141876992.0  -10.804017    10     0        NaN        NaN   \n",
       "2017-01-11  115808000.0    5.674988     0     5        NaN        NaN   \n",
       "2017-01-12  310928992.0 -132.937011   132     0        NaN        NaN   \n",
       "2017-01-13  222326000.0   28.559021     0    28        NaN        NaN   \n",
       "2017-01-14  168968000.0   21.405029     0    21        NaN        NaN   \n",
       "2017-01-15   93063296.0   -7.000000     7     0  18.071429  28.642857   \n",
       "2017-01-16   71013600.0    3.640991     0     3  15.857143  28.642857   \n",
       "\n",
       "                  RSI  \n",
       "Date                   \n",
       "2017-01-02        NaN  \n",
       "2017-01-03        NaN  \n",
       "2017-01-04        NaN  \n",
       "2017-01-05        NaN  \n",
       "2017-01-06        NaN  \n",
       "2017-01-07        NaN  \n",
       "2017-01-08        NaN  \n",
       "2017-01-09        NaN  \n",
       "2017-01-10        NaN  \n",
       "2017-01-11        NaN  \n",
       "2017-01-12        NaN  \n",
       "2017-01-13        NaN  \n",
       "2017-01-14        NaN  \n",
       "2017-01-15  38.685015  \n",
       "2017-01-16  35.634029  "
      ]
     },
     "execution_count": 1438,
     "metadata": {},
     "output_type": "execute_result"
    }
   ],
   "source": [
    "n = 14 \n",
    "n_highest_high = df[\"High\"].rolling(n).max()\n",
    "n_lowest_low = df[\"Low\"].rolling(n).min()\n",
    "\n",
    "K = (\n",
    "    (df[\"Close\"] - n_lowest_low) / \n",
    "    (n_highest_high - n_lowest_low)\n",
    ") * 100\n",
    "\n",
    "df.head(15)"
   ]
  },
  {
   "cell_type": "markdown",
   "id": "bcbe8041",
   "metadata": {},
   "source": [
    "## STOCHASTIC"
   ]
  },
  {
   "cell_type": "code",
   "execution_count": 1439,
   "id": "b51a409c",
   "metadata": {},
   "outputs": [
    {
     "data": {
      "text/plain": [
       "count    1732.000000\n",
       "mean       57.474757\n",
       "std        30.404945\n",
       "min         0.000000\n",
       "25%        30.856961\n",
       "50%        61.786179\n",
       "75%        86.186794\n",
       "max       100.000000\n",
       "dtype: float64"
      ]
     },
     "execution_count": 1439,
     "metadata": {},
     "output_type": "execute_result"
    }
   ],
   "source": [
    "K.describe()"
   ]
  },
  {
   "cell_type": "code",
   "execution_count": 1440,
   "id": "8e897c29",
   "metadata": {},
   "outputs": [],
   "source": [
    "df[\"Fast Stochastic\"] = K.rolling(14).mean()"
   ]
  },
  {
   "cell_type": "code",
   "execution_count": 1441,
   "id": "aeba4d1d",
   "metadata": {},
   "outputs": [
    {
     "data": {
      "text/html": [
       "<div>\n",
       "<style scoped>\n",
       "    .dataframe tbody tr th:only-of-type {\n",
       "        vertical-align: middle;\n",
       "    }\n",
       "\n",
       "    .dataframe tbody tr th {\n",
       "        vertical-align: top;\n",
       "    }\n",
       "\n",
       "    .dataframe thead th {\n",
       "        text-align: right;\n",
       "    }\n",
       "</style>\n",
       "<table border=\"1\" class=\"dataframe\">\n",
       "  <thead>\n",
       "    <tr style=\"text-align: right;\">\n",
       "      <th></th>\n",
       "      <th>Open</th>\n",
       "      <th>High</th>\n",
       "      <th>Low</th>\n",
       "      <th>Close</th>\n",
       "      <th>Volume</th>\n",
       "      <th>Volume_past</th>\n",
       "      <th>Change</th>\n",
       "      <th>Loss</th>\n",
       "      <th>Gain</th>\n",
       "      <th>avg_gain</th>\n",
       "      <th>avg_loss</th>\n",
       "      <th>RSI</th>\n",
       "      <th>Fast Stochastic</th>\n",
       "      <th>Slow Stochastic</th>\n",
       "    </tr>\n",
       "    <tr>\n",
       "      <th>Date</th>\n",
       "      <th></th>\n",
       "      <th></th>\n",
       "      <th></th>\n",
       "      <th></th>\n",
       "      <th></th>\n",
       "      <th></th>\n",
       "      <th></th>\n",
       "      <th></th>\n",
       "      <th></th>\n",
       "      <th></th>\n",
       "      <th></th>\n",
       "      <th></th>\n",
       "      <th></th>\n",
       "      <th></th>\n",
       "    </tr>\n",
       "  </thead>\n",
       "  <tbody>\n",
       "    <tr>\n",
       "      <th>2017-01-02</th>\n",
       "      <td>998.617004</td>\n",
       "      <td>1031.390015</td>\n",
       "      <td>996.702026</td>\n",
       "      <td>1021.750000</td>\n",
       "      <td>222184992.0</td>\n",
       "      <td>147775008.0</td>\n",
       "      <td>34.958984</td>\n",
       "      <td>0</td>\n",
       "      <td>34</td>\n",
       "      <td>NaN</td>\n",
       "      <td>NaN</td>\n",
       "      <td>NaN</td>\n",
       "      <td>NaN</td>\n",
       "      <td>NaN</td>\n",
       "    </tr>\n",
       "    <tr>\n",
       "      <th>2017-01-03</th>\n",
       "      <td>1021.599976</td>\n",
       "      <td>1044.079956</td>\n",
       "      <td>1021.599976</td>\n",
       "      <td>1043.839966</td>\n",
       "      <td>185168000.0</td>\n",
       "      <td>222184992.0</td>\n",
       "      <td>22.982972</td>\n",
       "      <td>0</td>\n",
       "      <td>22</td>\n",
       "      <td>NaN</td>\n",
       "      <td>NaN</td>\n",
       "      <td>NaN</td>\n",
       "      <td>NaN</td>\n",
       "      <td>NaN</td>\n",
       "    </tr>\n",
       "    <tr>\n",
       "      <th>2017-01-04</th>\n",
       "      <td>1044.400024</td>\n",
       "      <td>1159.420044</td>\n",
       "      <td>1044.400024</td>\n",
       "      <td>1154.729980</td>\n",
       "      <td>344945984.0</td>\n",
       "      <td>185168000.0</td>\n",
       "      <td>22.800048</td>\n",
       "      <td>0</td>\n",
       "      <td>22</td>\n",
       "      <td>NaN</td>\n",
       "      <td>NaN</td>\n",
       "      <td>NaN</td>\n",
       "      <td>NaN</td>\n",
       "      <td>NaN</td>\n",
       "    </tr>\n",
       "    <tr>\n",
       "      <th>2017-01-05</th>\n",
       "      <td>1156.729980</td>\n",
       "      <td>1191.099976</td>\n",
       "      <td>910.416992</td>\n",
       "      <td>1013.380005</td>\n",
       "      <td>510199008.0</td>\n",
       "      <td>344945984.0</td>\n",
       "      <td>112.329956</td>\n",
       "      <td>0</td>\n",
       "      <td>112</td>\n",
       "      <td>NaN</td>\n",
       "      <td>NaN</td>\n",
       "      <td>NaN</td>\n",
       "      <td>NaN</td>\n",
       "      <td>NaN</td>\n",
       "    </tr>\n",
       "    <tr>\n",
       "      <th>2017-01-06</th>\n",
       "      <td>1014.239990</td>\n",
       "      <td>1046.810059</td>\n",
       "      <td>883.943970</td>\n",
       "      <td>902.200989</td>\n",
       "      <td>351876000.0</td>\n",
       "      <td>510199008.0</td>\n",
       "      <td>-142.489990</td>\n",
       "      <td>142</td>\n",
       "      <td>0</td>\n",
       "      <td>NaN</td>\n",
       "      <td>NaN</td>\n",
       "      <td>NaN</td>\n",
       "      <td>NaN</td>\n",
       "      <td>NaN</td>\n",
       "    </tr>\n",
       "  </tbody>\n",
       "</table>\n",
       "</div>"
      ],
      "text/plain": [
       "                   Open         High          Low        Close       Volume  \\\n",
       "Date                                                                          \n",
       "2017-01-02   998.617004  1031.390015   996.702026  1021.750000  222184992.0   \n",
       "2017-01-03  1021.599976  1044.079956  1021.599976  1043.839966  185168000.0   \n",
       "2017-01-04  1044.400024  1159.420044  1044.400024  1154.729980  344945984.0   \n",
       "2017-01-05  1156.729980  1191.099976   910.416992  1013.380005  510199008.0   \n",
       "2017-01-06  1014.239990  1046.810059   883.943970   902.200989  351876000.0   \n",
       "\n",
       "            Volume_past      Change  Loss  Gain  avg_gain  avg_loss  RSI  \\\n",
       "Date                                                                       \n",
       "2017-01-02  147775008.0   34.958984     0    34       NaN       NaN  NaN   \n",
       "2017-01-03  222184992.0   22.982972     0    22       NaN       NaN  NaN   \n",
       "2017-01-04  185168000.0   22.800048     0    22       NaN       NaN  NaN   \n",
       "2017-01-05  344945984.0  112.329956     0   112       NaN       NaN  NaN   \n",
       "2017-01-06  510199008.0 -142.489990   142     0       NaN       NaN  NaN   \n",
       "\n",
       "            Fast Stochastic  Slow Stochastic  \n",
       "Date                                          \n",
       "2017-01-02              NaN              NaN  \n",
       "2017-01-03              NaN              NaN  \n",
       "2017-01-04              NaN              NaN  \n",
       "2017-01-05              NaN              NaN  \n",
       "2017-01-06              NaN              NaN  "
      ]
     },
     "execution_count": 1441,
     "metadata": {},
     "output_type": "execute_result"
    }
   ],
   "source": [
    "df[\"Slow Stochastic\"] = df[\"Fast Stochastic\"].rolling(3).mean()\n",
    "df.head()"
   ]
  },
  {
   "cell_type": "code",
   "execution_count": 1442,
   "id": "49ff8282",
   "metadata": {},
   "outputs": [
    {
     "data": {
      "text/plain": [
       "(count    1717.000000\n",
       " mean       57.351871\n",
       " std        22.630466\n",
       " min         8.941457\n",
       " 25%        38.470439\n",
       " 50%        59.345295\n",
       " 75%        77.557332\n",
       " max        93.314137\n",
       " Name: Slow Stochastic, dtype: float64,\n",
       " count    1719.000000\n",
       " mean       57.371755\n",
       " std        22.745487\n",
       " min         8.230523\n",
       " 25%        38.444095\n",
       " 50%        59.259247\n",
       " 75%        77.715646\n",
       " max        93.736208\n",
       " Name: Fast Stochastic, dtype: float64)"
      ]
     },
     "execution_count": 1442,
     "metadata": {},
     "output_type": "execute_result"
    }
   ],
   "source": [
    "df[\"Slow Stochastic\"].describe(), df[\"Fast Stochastic\"].describe()"
   ]
  },
  {
   "cell_type": "markdown",
   "id": "9695d4e2",
   "metadata": {},
   "source": [
    "## VMA (Media móvil de volúmen)"
   ]
  },
  {
   "cell_type": "code",
   "execution_count": 1443,
   "id": "bb2d1a55",
   "metadata": {},
   "outputs": [],
   "source": [
    "df['VMA'] = df['Volume'].rolling(window=7).mean() #Media movil de volumen"
   ]
  },
  {
   "cell_type": "code",
   "execution_count": 1444,
   "id": "957eb6b3",
   "metadata": {},
   "outputs": [
    {
     "data": {
      "text/plain": [
       "count    1.739000e+03\n",
       "mean     2.026768e+10\n",
       "std      1.962831e+10\n",
       "min      9.902170e+07\n",
       "25%      4.504767e+09\n",
       "50%      1.543233e+10\n",
       "75%      3.189081e+10\n",
       "max      1.124811e+11\n",
       "Name: VMA, dtype: float64"
      ]
     },
     "execution_count": 1444,
     "metadata": {},
     "output_type": "execute_result"
    }
   ],
   "source": [
    "df.VMA.describe() #Media movil de volumen"
   ]
  },
  {
   "cell_type": "markdown",
   "id": "a6b06ac6",
   "metadata": {},
   "source": [
    "## Emas"
   ]
  },
  {
   "cell_type": "code",
   "execution_count": 1445,
   "id": "f7fd490e",
   "metadata": {},
   "outputs": [],
   "source": [
    "ema_3 = df['Close'].rolling(window=3).mean()\n",
    "ema_13 =df['Close'].rolling(window=13).mean()\n",
    "ema_9 = df['Close'].rolling(window=9).mean()\n",
    "ema_12 = df['Close'].rolling(window=12).mean()\n",
    "ema_26 = df['Close'].rolling(window=26).mean()\n",
    "ema_7 = df['Close'].rolling(window=7).mean()\n",
    "df['ema_7']= ema_7\n",
    "df['ema_13'] =ema_13\n",
    "df['ema_3'] = ema_3"
   ]
  },
  {
   "cell_type": "code",
   "execution_count": 1446,
   "id": "30babfc6",
   "metadata": {},
   "outputs": [],
   "source": [
    "df['Desicion_ema_7'] = 0\n",
    "df['Desicion_ema_13'] = 0\n",
    "df['Desicion_ema_3'] = 0\n",
    "for i in range(len(df['Close'])):\n",
    "    if df['Close'][i]>df['ema_7'][i]:\n",
    "        df['Desicion_ema_7'][i]= 1\n",
    "        \n",
    "    if df['Close'][i]>df['ema_13'][i]:\n",
    "        df['Desicion_ema_13'][i]= 1\n",
    "        \n",
    "    if df['Close'][i]>df['ema_3'][i]:\n",
    "        df['Desicion_ema_3'][i]= 1\n",
    "        "
   ]
  },
  {
   "cell_type": "code",
   "execution_count": 1447,
   "id": "eb2a2137",
   "metadata": {},
   "outputs": [
    {
     "data": {
      "text/plain": [
       "count     1733.000000\n",
       "mean     13539.581288\n",
       "std      14612.081092\n",
       "min        860.667687\n",
       "25%       5307.997746\n",
       "50%       8359.612117\n",
       "75%      11503.771034\n",
       "max      60149.504507\n",
       "Name: Close, dtype: float64"
      ]
     },
     "execution_count": 1447,
     "metadata": {},
     "output_type": "execute_result"
    }
   ],
   "source": [
    "ema_13.describe()"
   ]
  },
  {
   "cell_type": "markdown",
   "id": "20c01ad4",
   "metadata": {},
   "source": [
    "## Bull Bear Power"
   ]
  },
  {
   "cell_type": "code",
   "execution_count": 1448,
   "id": "a0b759df",
   "metadata": {},
   "outputs": [
    {
     "data": {
      "text/plain": [
       "count     1732.000000\n",
       "mean     11783.215015\n",
       "std      12644.995947\n",
       "min        755.755981\n",
       "25%       4164.049805\n",
       "50%       7446.988770\n",
       "75%      10185.774414\n",
       "max      55604.023438\n",
       "Name: Low, dtype: float64"
      ]
     },
     "execution_count": 1448,
     "metadata": {},
     "output_type": "execute_result"
    }
   ],
   "source": [
    "n_lowest_low.describe()"
   ]
  },
  {
   "cell_type": "code",
   "execution_count": 1449,
   "id": "c1e1d1d3",
   "metadata": {},
   "outputs": [
    {
     "data": {
      "text/plain": [
       "count     1733.000000\n",
       "mean     -1155.498516\n",
       "std       1861.641617\n",
       "min     -19500.790865\n",
       "25%      -1258.089994\n",
       "50%       -463.997765\n",
       "75%       -183.183744\n",
       "max        253.673829\n",
       "Name: Bull_Bear_power, dtype: float64"
      ]
     },
     "execution_count": 1449,
     "metadata": {},
     "output_type": "execute_result"
    }
   ],
   "source": [
    "n_lowest_low = df[\"Low\"].rolling(7).min()\n",
    "df['Bull_Bear_power'] = n_lowest_low - ema_13\n",
    "df.Bull_Bear_power.describe()"
   ]
  },
  {
   "cell_type": "markdown",
   "id": "eef7bb04",
   "metadata": {},
   "source": [
    "## CONVERGENCIA/DIVERGENCIA DE LA MEDIA MÓVIL (MACD)"
   ]
  },
  {
   "cell_type": "code",
   "execution_count": 1450,
   "id": "e2f964c0",
   "metadata": {},
   "outputs": [
    {
     "data": {
      "text/plain": [
       "count    1720.000000\n",
       "mean      187.163440\n",
       "std      1383.306491\n",
       "min     -8134.497095\n",
       "25%      -204.606807\n",
       "50%        63.467115\n",
       "75%       441.793659\n",
       "max      7493.551182\n",
       "Name: MACD, dtype: float64"
      ]
     },
     "execution_count": 1450,
     "metadata": {},
     "output_type": "execute_result"
    }
   ],
   "source": [
    "df['MACD'] = ema_12 - ema_26 \n",
    "df.MACD.describe()"
   ]
  },
  {
   "cell_type": "code",
   "execution_count": 1451,
   "id": "99c0ea20",
   "metadata": {},
   "outputs": [
    {
     "name": "stdout",
     "output_type": "stream",
     "text": [
      "<class 'pandas.core.frame.DataFrame'>\n",
      "DatetimeIndex: 1745 entries, 2017-01-02 to 2021-10-12\n",
      "Freq: D\n",
      "Data columns (total 23 columns):\n",
      " #   Column           Non-Null Count  Dtype  \n",
      "---  ------           --------------  -----  \n",
      " 0   Open             1745 non-null   float64\n",
      " 1   High             1745 non-null   float64\n",
      " 2   Low              1745 non-null   float64\n",
      " 3   Close            1745 non-null   float64\n",
      " 4   Volume           1745 non-null   float64\n",
      " 5   Volume_past      1745 non-null   float64\n",
      " 6   Change           1745 non-null   float64\n",
      " 7   Loss             1745 non-null   int64  \n",
      " 8   Gain             1745 non-null   int64  \n",
      " 9   avg_gain         1732 non-null   float64\n",
      " 10  avg_loss         1732 non-null   float64\n",
      " 11  RSI              1732 non-null   float64\n",
      " 12  Fast Stochastic  1719 non-null   float64\n",
      " 13  Slow Stochastic  1717 non-null   float64\n",
      " 14  VMA              1739 non-null   float64\n",
      " 15  ema_7            1739 non-null   float64\n",
      " 16  ema_13           1733 non-null   float64\n",
      " 17  ema_3            1743 non-null   float64\n",
      " 18  Desicion_ema_7   1745 non-null   int64  \n",
      " 19  Desicion_ema_13  1745 non-null   int64  \n",
      " 20  Desicion_ema_3   1745 non-null   int64  \n",
      " 21  Bull_Bear_power  1733 non-null   float64\n",
      " 22  MACD             1720 non-null   float64\n",
      "dtypes: float64(18), int64(5)\n",
      "memory usage: 327.2 KB\n"
     ]
    }
   ],
   "source": [
    "df.info()"
   ]
  },
  {
   "cell_type": "code",
   "execution_count": 1452,
   "id": "a5070be7",
   "metadata": {},
   "outputs": [],
   "source": [
    "df = df[28:]"
   ]
  },
  {
   "cell_type": "code",
   "execution_count": 1453,
   "id": "ff3f587c",
   "metadata": {},
   "outputs": [
    {
     "data": {
      "text/html": [
       "<div>\n",
       "<style scoped>\n",
       "    .dataframe tbody tr th:only-of-type {\n",
       "        vertical-align: middle;\n",
       "    }\n",
       "\n",
       "    .dataframe tbody tr th {\n",
       "        vertical-align: top;\n",
       "    }\n",
       "\n",
       "    .dataframe thead th {\n",
       "        text-align: right;\n",
       "    }\n",
       "</style>\n",
       "<table border=\"1\" class=\"dataframe\">\n",
       "  <thead>\n",
       "    <tr style=\"text-align: right;\">\n",
       "      <th></th>\n",
       "      <th>Open</th>\n",
       "      <th>High</th>\n",
       "      <th>Low</th>\n",
       "      <th>Close</th>\n",
       "      <th>Volume</th>\n",
       "      <th>Volume_past</th>\n",
       "      <th>Change</th>\n",
       "      <th>Loss</th>\n",
       "      <th>Gain</th>\n",
       "      <th>avg_gain</th>\n",
       "      <th>...</th>\n",
       "      <th>Slow Stochastic</th>\n",
       "      <th>VMA</th>\n",
       "      <th>ema_7</th>\n",
       "      <th>ema_13</th>\n",
       "      <th>ema_3</th>\n",
       "      <th>Desicion_ema_7</th>\n",
       "      <th>Desicion_ema_13</th>\n",
       "      <th>Desicion_ema_3</th>\n",
       "      <th>Bull_Bear_power</th>\n",
       "      <th>MACD</th>\n",
       "    </tr>\n",
       "    <tr>\n",
       "      <th>Date</th>\n",
       "      <th></th>\n",
       "      <th></th>\n",
       "      <th></th>\n",
       "      <th></th>\n",
       "      <th></th>\n",
       "      <th></th>\n",
       "      <th></th>\n",
       "      <th></th>\n",
       "      <th></th>\n",
       "      <th></th>\n",
       "      <th></th>\n",
       "      <th></th>\n",
       "      <th></th>\n",
       "      <th></th>\n",
       "      <th></th>\n",
       "      <th></th>\n",
       "      <th></th>\n",
       "      <th></th>\n",
       "      <th></th>\n",
       "      <th></th>\n",
       "      <th></th>\n",
       "    </tr>\n",
       "  </thead>\n",
       "  <tbody>\n",
       "    <tr>\n",
       "      <th>2017-01-30</th>\n",
       "      <td>920.151001</td>\n",
       "      <td>923.047974</td>\n",
       "      <td>919.473999</td>\n",
       "      <td>920.382019</td>\n",
       "      <td>78227296.0</td>\n",
       "      <td>60851700.0</td>\n",
       "      <td>-1.916016</td>\n",
       "      <td>1</td>\n",
       "      <td>0</td>\n",
       "      <td>10.928571</td>\n",
       "      <td>...</td>\n",
       "      <td>69.880890</td>\n",
       "      <td>9.968437e+07</td>\n",
       "      <td>913.290432</td>\n",
       "      <td>910.863385</td>\n",
       "      <td>920.489339</td>\n",
       "      <td>1</td>\n",
       "      <td>1</td>\n",
       "      <td>0</td>\n",
       "      <td>-19.176373</td>\n",
       "      <td>21.601028</td>\n",
       "    </tr>\n",
       "    <tr>\n",
       "      <th>2017-01-31</th>\n",
       "      <td>920.958984</td>\n",
       "      <td>972.018982</td>\n",
       "      <td>920.958984</td>\n",
       "      <td>970.403015</td>\n",
       "      <td>164582000.0</td>\n",
       "      <td>78227296.0</td>\n",
       "      <td>0.807983</td>\n",
       "      <td>0</td>\n",
       "      <td>0</td>\n",
       "      <td>10.285714</td>\n",
       "      <td>...</td>\n",
       "      <td>74.633448</td>\n",
       "      <td>1.072891e+08</td>\n",
       "      <td>924.392718</td>\n",
       "      <td>917.308387</td>\n",
       "      <td>936.760335</td>\n",
       "      <td>1</td>\n",
       "      <td>1</td>\n",
       "      <td>1</td>\n",
       "      <td>-25.621375</td>\n",
       "      <td>29.198158</td>\n",
       "    </tr>\n",
       "    <tr>\n",
       "      <th>2017-02-01</th>\n",
       "      <td>970.940979</td>\n",
       "      <td>989.114014</td>\n",
       "      <td>970.742004</td>\n",
       "      <td>989.023010</td>\n",
       "      <td>150110000.0</td>\n",
       "      <td>164582000.0</td>\n",
       "      <td>49.981995</td>\n",
       "      <td>0</td>\n",
       "      <td>49</td>\n",
       "      <td>8.214286</td>\n",
       "      <td>...</td>\n",
       "      <td>79.395526</td>\n",
       "      <td>1.114718e+08</td>\n",
       "      <td>936.890006</td>\n",
       "      <td>924.227619</td>\n",
       "      <td>959.936015</td>\n",
       "      <td>1</td>\n",
       "      <td>1</td>\n",
       "      <td>1</td>\n",
       "      <td>-22.003620</td>\n",
       "      <td>33.691933</td>\n",
       "    </tr>\n",
       "    <tr>\n",
       "      <th>2017-02-02</th>\n",
       "      <td>990.000977</td>\n",
       "      <td>1013.520020</td>\n",
       "      <td>983.221008</td>\n",
       "      <td>1011.799988</td>\n",
       "      <td>145820992.0</td>\n",
       "      <td>150110000.0</td>\n",
       "      <td>19.059998</td>\n",
       "      <td>0</td>\n",
       "      <td>19</td>\n",
       "      <td>9.571429</td>\n",
       "      <td>...</td>\n",
       "      <td>83.749708</td>\n",
       "      <td>1.134522e+08</td>\n",
       "      <td>950.349147</td>\n",
       "      <td>933.210233</td>\n",
       "      <td>990.408671</td>\n",
       "      <td>1</td>\n",
       "      <td>1</td>\n",
       "      <td>1</td>\n",
       "      <td>-17.364225</td>\n",
       "      <td>37.223042</td>\n",
       "    </tr>\n",
       "    <tr>\n",
       "      <th>2017-02-03</th>\n",
       "      <td>1011.460022</td>\n",
       "      <td>1033.869995</td>\n",
       "      <td>1008.789978</td>\n",
       "      <td>1029.910034</td>\n",
       "      <td>201278000.0</td>\n",
       "      <td>145820992.0</td>\n",
       "      <td>21.459045</td>\n",
       "      <td>0</td>\n",
       "      <td>21</td>\n",
       "      <td>10.428571</td>\n",
       "      <td>...</td>\n",
       "      <td>87.130175</td>\n",
       "      <td>1.242642e+08</td>\n",
       "      <td>966.086295</td>\n",
       "      <td>941.527236</td>\n",
       "      <td>1010.244344</td>\n",
       "      <td>1</td>\n",
       "      <td>1</td>\n",
       "      <td>1</td>\n",
       "      <td>-22.379226</td>\n",
       "      <td>41.426988</td>\n",
       "    </tr>\n",
       "  </tbody>\n",
       "</table>\n",
       "<p>5 rows × 23 columns</p>\n",
       "</div>"
      ],
      "text/plain": [
       "                   Open         High          Low        Close       Volume  \\\n",
       "Date                                                                          \n",
       "2017-01-30   920.151001   923.047974   919.473999   920.382019   78227296.0   \n",
       "2017-01-31   920.958984   972.018982   920.958984   970.403015  164582000.0   \n",
       "2017-02-01   970.940979   989.114014   970.742004   989.023010  150110000.0   \n",
       "2017-02-02   990.000977  1013.520020   983.221008  1011.799988  145820992.0   \n",
       "2017-02-03  1011.460022  1033.869995  1008.789978  1029.910034  201278000.0   \n",
       "\n",
       "            Volume_past     Change  Loss  Gain   avg_gain  ...  \\\n",
       "Date                                                       ...   \n",
       "2017-01-30   60851700.0  -1.916016     1     0  10.928571  ...   \n",
       "2017-01-31   78227296.0   0.807983     0     0  10.285714  ...   \n",
       "2017-02-01  164582000.0  49.981995     0    49   8.214286  ...   \n",
       "2017-02-02  150110000.0  19.059998     0    19   9.571429  ...   \n",
       "2017-02-03  145820992.0  21.459045     0    21  10.428571  ...   \n",
       "\n",
       "            Slow Stochastic           VMA       ema_7      ema_13  \\\n",
       "Date                                                                \n",
       "2017-01-30        69.880890  9.968437e+07  913.290432  910.863385   \n",
       "2017-01-31        74.633448  1.072891e+08  924.392718  917.308387   \n",
       "2017-02-01        79.395526  1.114718e+08  936.890006  924.227619   \n",
       "2017-02-02        83.749708  1.134522e+08  950.349147  933.210233   \n",
       "2017-02-03        87.130175  1.242642e+08  966.086295  941.527236   \n",
       "\n",
       "                  ema_3  Desicion_ema_7  Desicion_ema_13  Desicion_ema_3  \\\n",
       "Date                                                                       \n",
       "2017-01-30   920.489339               1                1               0   \n",
       "2017-01-31   936.760335               1                1               1   \n",
       "2017-02-01   959.936015               1                1               1   \n",
       "2017-02-02   990.408671               1                1               1   \n",
       "2017-02-03  1010.244344               1                1               1   \n",
       "\n",
       "            Bull_Bear_power       MACD  \n",
       "Date                                    \n",
       "2017-01-30       -19.176373  21.601028  \n",
       "2017-01-31       -25.621375  29.198158  \n",
       "2017-02-01       -22.003620  33.691933  \n",
       "2017-02-02       -17.364225  37.223042  \n",
       "2017-02-03       -22.379226  41.426988  \n",
       "\n",
       "[5 rows x 23 columns]"
      ]
     },
     "execution_count": 1453,
     "metadata": {},
     "output_type": "execute_result"
    }
   ],
   "source": [
    "df.head()"
   ]
  },
  {
   "cell_type": "code",
   "execution_count": 1454,
   "id": "2b124520",
   "metadata": {},
   "outputs": [
    {
     "name": "stdout",
     "output_type": "stream",
     "text": [
      "<class 'pandas.core.frame.DataFrame'>\n",
      "DatetimeIndex: 1717 entries, 2017-01-30 to 2021-10-12\n",
      "Freq: D\n",
      "Data columns (total 23 columns):\n",
      " #   Column           Non-Null Count  Dtype  \n",
      "---  ------           --------------  -----  \n",
      " 0   Open             1717 non-null   float64\n",
      " 1   High             1717 non-null   float64\n",
      " 2   Low              1717 non-null   float64\n",
      " 3   Close            1717 non-null   float64\n",
      " 4   Volume           1717 non-null   float64\n",
      " 5   Volume_past      1717 non-null   float64\n",
      " 6   Change           1717 non-null   float64\n",
      " 7   Loss             1717 non-null   int64  \n",
      " 8   Gain             1717 non-null   int64  \n",
      " 9   avg_gain         1717 non-null   float64\n",
      " 10  avg_loss         1717 non-null   float64\n",
      " 11  RSI              1717 non-null   float64\n",
      " 12  Fast Stochastic  1717 non-null   float64\n",
      " 13  Slow Stochastic  1717 non-null   float64\n",
      " 14  VMA              1717 non-null   float64\n",
      " 15  ema_7            1717 non-null   float64\n",
      " 16  ema_13           1717 non-null   float64\n",
      " 17  ema_3            1717 non-null   float64\n",
      " 18  Desicion_ema_7   1717 non-null   int64  \n",
      " 19  Desicion_ema_13  1717 non-null   int64  \n",
      " 20  Desicion_ema_3   1717 non-null   int64  \n",
      " 21  Bull_Bear_power  1717 non-null   float64\n",
      " 22  MACD             1717 non-null   float64\n",
      "dtypes: float64(18), int64(5)\n",
      "memory usage: 321.9 KB\n"
     ]
    }
   ],
   "source": [
    "df.info()"
   ]
  },
  {
   "cell_type": "markdown",
   "id": "44cf6651",
   "metadata": {},
   "source": [
    "## Porcentaje de cambio de precio"
   ]
  },
  {
   "cell_type": "code",
   "execution_count": 1455,
   "id": "fc1fece8",
   "metadata": {},
   "outputs": [
    {
     "data": {
      "text/plain": [
       "count    1717.000000\n",
       "mean       32.967248\n",
       "std       864.599163\n",
       "min     -6979.097656\n",
       "25%      -123.470215\n",
       "50%        12.190064\n",
       "75%       169.557617\n",
       "max      7298.164063\n",
       "Name: Change, dtype: float64"
      ]
     },
     "execution_count": 1455,
     "metadata": {},
     "output_type": "execute_result"
    }
   ],
   "source": [
    "df['Change'].describe()\n"
   ]
  },
  {
   "cell_type": "code",
   "execution_count": 1456,
   "id": "806de04f",
   "metadata": {},
   "outputs": [
    {
     "data": {
      "text/plain": [
       "Date\n",
       "2017-01-30   -0.208228\n",
       "2017-01-31    0.087733\n",
       "2017-02-01    5.147789\n",
       "2017-02-02    1.925250\n",
       "2017-02-03    2.121591\n",
       "                ...   \n",
       "2021-10-08   -2.855798\n",
       "2021-10-09    0.236672\n",
       "2021-10-10    1.861668\n",
       "2021-10-11   -0.399559\n",
       "2021-10-12    4.854616\n",
       "Freq: D, Name: %_Change, Length: 1717, dtype: float64"
      ]
     },
     "execution_count": 1456,
     "metadata": {},
     "output_type": "execute_result"
    }
   ],
   "source": [
    "df['%_Change'] = (df.Change * 100)/df.Open\n",
    "df['%_Change']"
   ]
  },
  {
   "cell_type": "code",
   "execution_count": 1457,
   "id": "cb0747eb",
   "metadata": {},
   "outputs": [
    {
     "data": {
      "text/plain": [
       "count    1717.000000\n",
       "mean        0.149674\n",
       "std         4.324825\n",
       "min       -57.709897\n",
       "25%        -1.538579\n",
       "50%         0.228708\n",
       "75%         2.081691\n",
       "max        20.029525\n",
       "Name: %_Change, dtype: float64"
      ]
     },
     "execution_count": 1457,
     "metadata": {},
     "output_type": "execute_result"
    }
   ],
   "source": [
    "df['%_Change'].describe()"
   ]
  },
  {
   "cell_type": "code",
   "execution_count": 1458,
   "id": "81993ba9",
   "metadata": {},
   "outputs": [
    {
     "data": {
      "text/plain": [
       "<AxesSubplot:>"
      ]
     },
     "execution_count": 1458,
     "metadata": {},
     "output_type": "execute_result"
    },
    {
     "data": {
      "image/png": "[encoded data removed]",
      "text/plain": [
       "<Figure size 640x480 with 1 Axes>"
      ]
     },
     "metadata": {},
     "output_type": "display_data"
    }
   ],
   "source": [
    "df.boxplot('%_Change')"
   ]
  },
  {
   "cell_type": "code",
   "execution_count": 1459,
   "id": "0d4a1a57",
   "metadata": {},
   "outputs": [
    {
     "data": {
      "text/plain": [
       "array([0, 1], dtype=int64)"
      ]
     },
     "execution_count": 1459,
     "metadata": {},
     "output_type": "execute_result"
    }
   ],
   "source": [
    "df['Order'] = 0\n",
    "for i in range(len(df.Order)):\n",
    "    if df['%_Change'][i]<0:\n",
    "        df['Order'][i] = 0\n",
    "    else:\n",
    "        df['Order'][i] = 1\n",
    "df.Order.unique()"
   ]
  },
  {
   "cell_type": "code",
   "execution_count": 1460,
   "id": "63343705",
   "metadata": {},
   "outputs": [
    {
     "name": "stdout",
     "output_type": "stream",
     "text": [
      "<class 'pandas.core.frame.DataFrame'>\n",
      "DatetimeIndex: 1717 entries, 2017-01-30 to 2021-10-12\n",
      "Freq: D\n",
      "Data columns (total 25 columns):\n",
      " #   Column           Non-Null Count  Dtype  \n",
      "---  ------           --------------  -----  \n",
      " 0   Open             1717 non-null   float64\n",
      " 1   High             1717 non-null   float64\n",
      " 2   Low              1717 non-null   float64\n",
      " 3   Close            1717 non-null   float64\n",
      " 4   Volume           1717 non-null   float64\n",
      " 5   Volume_past      1717 non-null   float64\n",
      " 6   Change           1717 non-null   float64\n",
      " 7   Loss             1717 non-null   int64  \n",
      " 8   Gain             1717 non-null   int64  \n",
      " 9   avg_gain         1717 non-null   float64\n",
      " 10  avg_loss         1717 non-null   float64\n",
      " 11  RSI              1717 non-null   float64\n",
      " 12  Fast Stochastic  1717 non-null   float64\n",
      " 13  Slow Stochastic  1717 non-null   float64\n",
      " 14  VMA              1717 non-null   float64\n",
      " 15  ema_7            1717 non-null   float64\n",
      " 16  ema_13           1717 non-null   float64\n",
      " 17  ema_3            1717 non-null   float64\n",
      " 18  Desicion_ema_7   1717 non-null   int64  \n",
      " 19  Desicion_ema_13  1717 non-null   int64  \n",
      " 20  Desicion_ema_3   1717 non-null   int64  \n",
      " 21  Bull_Bear_power  1717 non-null   float64\n",
      " 22  MACD             1717 non-null   float64\n",
      " 23  %_Change         1717 non-null   float64\n",
      " 24  Order            1717 non-null   int64  \n",
      "dtypes: float64(19), int64(6)\n",
      "memory usage: 348.8 KB\n"
     ]
    }
   ],
   "source": [
    "df.info()"
   ]
  },
  {
   "cell_type": "code",
   "execution_count": 1461,
   "id": "0369c81f",
   "metadata": {},
   "outputs": [
    {
     "data": {
      "text/plain": [
       "1    936\n",
       "0    781\n",
       "Name: Order, dtype: int64"
      ]
     },
     "execution_count": 1461,
     "metadata": {},
     "output_type": "execute_result"
    }
   ],
   "source": [
    "df.Order.value_counts()"
   ]
  },
  {
   "cell_type": "code",
   "execution_count": 1462,
   "id": "339bc63b",
   "metadata": {},
   "outputs": [
    {
     "data": {
      "text/plain": [
       "Index(['Open', 'High', 'Low', 'Close', 'Volume', 'Volume_past', 'Change',\n",
       "       'Loss', 'Gain', 'avg_gain', 'avg_loss', 'RSI', 'Fast Stochastic',\n",
       "       'Slow Stochastic', 'VMA', 'ema_7', 'ema_13', 'ema_3', 'Desicion_ema_7',\n",
       "       'Desicion_ema_13', 'Desicion_ema_3', 'Bull_Bear_power', 'MACD',\n",
       "       '%_Change', 'Order'],\n",
       "      dtype='object')"
      ]
     },
     "execution_count": 1462,
     "metadata": {},
     "output_type": "execute_result"
    }
   ],
   "source": [
    "df.columns"
   ]
  },
  {
   "cell_type": "code",
   "execution_count": 1463,
   "id": "ac086300",
   "metadata": {},
   "outputs": [
    {
     "data": {
      "text/html": [
       "<div>\n",
       "<style scoped>\n",
       "    .dataframe tbody tr th:only-of-type {\n",
       "        vertical-align: middle;\n",
       "    }\n",
       "\n",
       "    .dataframe tbody tr th {\n",
       "        vertical-align: top;\n",
       "    }\n",
       "\n",
       "    .dataframe thead th {\n",
       "        text-align: right;\n",
       "    }\n",
       "</style>\n",
       "<table border=\"1\" class=\"dataframe\">\n",
       "  <thead>\n",
       "    <tr style=\"text-align: right;\">\n",
       "      <th></th>\n",
       "      <th>RSI</th>\n",
       "      <th>Slow Stochastic</th>\n",
       "      <th>Volume_past</th>\n",
       "      <th>Bull_Bear_power</th>\n",
       "      <th>MACD</th>\n",
       "      <th>Desicion_ema_3</th>\n",
       "      <th>Desicion_ema_7</th>\n",
       "      <th>Desicion_ema_13</th>\n",
       "      <th>Order</th>\n",
       "    </tr>\n",
       "    <tr>\n",
       "      <th>Date</th>\n",
       "      <th></th>\n",
       "      <th></th>\n",
       "      <th></th>\n",
       "      <th></th>\n",
       "      <th></th>\n",
       "      <th></th>\n",
       "      <th></th>\n",
       "      <th></th>\n",
       "      <th></th>\n",
       "    </tr>\n",
       "  </thead>\n",
       "  <tbody>\n",
       "    <tr>\n",
       "      <th>2017-01-30</th>\n",
       "      <td>73.205742</td>\n",
       "      <td>69.880890</td>\n",
       "      <td>6.085170e+07</td>\n",
       "      <td>-19.176373</td>\n",
       "      <td>21.601028</td>\n",
       "      <td>0</td>\n",
       "      <td>1</td>\n",
       "      <td>1</td>\n",
       "      <td>0</td>\n",
       "    </tr>\n",
       "    <tr>\n",
       "      <th>2017-01-31</th>\n",
       "      <td>72.000000</td>\n",
       "      <td>74.633448</td>\n",
       "      <td>7.822730e+07</td>\n",
       "      <td>-25.621375</td>\n",
       "      <td>29.198158</td>\n",
       "      <td>1</td>\n",
       "      <td>1</td>\n",
       "      <td>1</td>\n",
       "      <td>1</td>\n",
       "    </tr>\n",
       "    <tr>\n",
       "      <th>2017-02-01</th>\n",
       "      <td>67.251462</td>\n",
       "      <td>79.395526</td>\n",
       "      <td>1.645820e+08</td>\n",
       "      <td>-22.003620</td>\n",
       "      <td>33.691933</td>\n",
       "      <td>1</td>\n",
       "      <td>1</td>\n",
       "      <td>1</td>\n",
       "      <td>1</td>\n",
       "    </tr>\n",
       "    <tr>\n",
       "      <th>2017-02-02</th>\n",
       "      <td>79.289941</td>\n",
       "      <td>83.749708</td>\n",
       "      <td>1.501100e+08</td>\n",
       "      <td>-17.364225</td>\n",
       "      <td>37.223042</td>\n",
       "      <td>1</td>\n",
       "      <td>1</td>\n",
       "      <td>1</td>\n",
       "      <td>1</td>\n",
       "    </tr>\n",
       "    <tr>\n",
       "      <th>2017-02-03</th>\n",
       "      <td>80.662983</td>\n",
       "      <td>87.130175</td>\n",
       "      <td>1.458210e+08</td>\n",
       "      <td>-22.379226</td>\n",
       "      <td>41.426988</td>\n",
       "      <td>1</td>\n",
       "      <td>1</td>\n",
       "      <td>1</td>\n",
       "      <td>1</td>\n",
       "    </tr>\n",
       "    <tr>\n",
       "      <th>...</th>\n",
       "      <td>...</td>\n",
       "      <td>...</td>\n",
       "      <td>...</td>\n",
       "      <td>...</td>\n",
       "      <td>...</td>\n",
       "      <td>...</td>\n",
       "      <td>...</td>\n",
       "      <td>...</td>\n",
       "      <td>...</td>\n",
       "    </tr>\n",
       "    <tr>\n",
       "      <th>2021-10-08</th>\n",
       "      <td>70.642500</td>\n",
       "      <td>62.233799</td>\n",
       "      <td>3.680786e+10</td>\n",
       "      <td>-618.492188</td>\n",
       "      <td>1572.809821</td>\n",
       "      <td>0</td>\n",
       "      <td>1</td>\n",
       "      <td>1</td>\n",
       "      <td>0</td>\n",
       "    </tr>\n",
       "    <tr>\n",
       "      <th>2021-10-09</th>\n",
       "      <td>78.214395</td>\n",
       "      <td>65.700771</td>\n",
       "      <td>3.480087e+10</td>\n",
       "      <td>-1523.083233</td>\n",
       "      <td>2249.037435</td>\n",
       "      <td>1</td>\n",
       "      <td>1</td>\n",
       "      <td>1</td>\n",
       "      <td>1</td>\n",
       "    </tr>\n",
       "    <tr>\n",
       "      <th>2021-10-10</th>\n",
       "      <td>79.751825</td>\n",
       "      <td>69.649242</td>\n",
       "      <td>3.249121e+10</td>\n",
       "      <td>-2487.379207</td>\n",
       "      <td>3098.440905</td>\n",
       "      <td>1</td>\n",
       "      <td>1</td>\n",
       "      <td>1</td>\n",
       "      <td>1</td>\n",
       "    </tr>\n",
       "    <tr>\n",
       "      <th>2021-10-11</th>\n",
       "      <td>78.381714</td>\n",
       "      <td>74.022588</td>\n",
       "      <td>3.952779e+10</td>\n",
       "      <td>-1724.946815</td>\n",
       "      <td>4067.126077</td>\n",
       "      <td>1</td>\n",
       "      <td>1</td>\n",
       "      <td>1</td>\n",
       "      <td>0</td>\n",
       "    </tr>\n",
       "    <tr>\n",
       "      <th>2021-10-12</th>\n",
       "      <td>84.801272</td>\n",
       "      <td>78.745420</td>\n",
       "      <td>4.263733e+10</td>\n",
       "      <td>-1423.187200</td>\n",
       "      <td>4770.369266</td>\n",
       "      <td>0</td>\n",
       "      <td>1</td>\n",
       "      <td>1</td>\n",
       "      <td>1</td>\n",
       "    </tr>\n",
       "  </tbody>\n",
       "</table>\n",
       "<p>1717 rows × 9 columns</p>\n",
       "</div>"
      ],
      "text/plain": [
       "                  RSI  Slow Stochastic   Volume_past  Bull_Bear_power  \\\n",
       "Date                                                                    \n",
       "2017-01-30  73.205742        69.880890  6.085170e+07       -19.176373   \n",
       "2017-01-31  72.000000        74.633448  7.822730e+07       -25.621375   \n",
       "2017-02-01  67.251462        79.395526  1.645820e+08       -22.003620   \n",
       "2017-02-02  79.289941        83.749708  1.501100e+08       -17.364225   \n",
       "2017-02-03  80.662983        87.130175  1.458210e+08       -22.379226   \n",
       "...               ...              ...           ...              ...   \n",
       "2021-10-08  70.642500        62.233799  3.680786e+10      -618.492188   \n",
       "2021-10-09  78.214395        65.700771  3.480087e+10     -1523.083233   \n",
       "2021-10-10  79.751825        69.649242  3.249121e+10     -2487.379207   \n",
       "2021-10-11  78.381714        74.022588  3.952779e+10     -1724.946815   \n",
       "2021-10-12  84.801272        78.745420  4.263733e+10     -1423.187200   \n",
       "\n",
       "                   MACD  Desicion_ema_3  Desicion_ema_7  Desicion_ema_13  \\\n",
       "Date                                                                       \n",
       "2017-01-30    21.601028               0               1                1   \n",
       "2017-01-31    29.198158               1               1                1   \n",
       "2017-02-01    33.691933               1               1                1   \n",
       "2017-02-02    37.223042               1               1                1   \n",
       "2017-02-03    41.426988               1               1                1   \n",
       "...                 ...             ...             ...              ...   \n",
       "2021-10-08  1572.809821               0               1                1   \n",
       "2021-10-09  2249.037435               1               1                1   \n",
       "2021-10-10  3098.440905               1               1                1   \n",
       "2021-10-11  4067.126077               1               1                1   \n",
       "2021-10-12  4770.369266               0               1                1   \n",
       "\n",
       "            Order  \n",
       "Date               \n",
       "2017-01-30      0  \n",
       "2017-01-31      1  \n",
       "2017-02-01      1  \n",
       "2017-02-02      1  \n",
       "2017-02-03      1  \n",
       "...           ...  \n",
       "2021-10-08      0  \n",
       "2021-10-09      1  \n",
       "2021-10-10      1  \n",
       "2021-10-11      0  \n",
       "2021-10-12      1  \n",
       "\n",
       "[1717 rows x 9 columns]"
      ]
     },
     "execution_count": 1463,
     "metadata": {},
     "output_type": "execute_result"
    }
   ],
   "source": [
    "df_new = df[['RSI', 'Slow Stochastic', 'Volume_past','Bull_Bear_power'\n",
    "             ,'MACD', 'Desicion_ema_3','Desicion_ema_7','Desicion_ema_13','Order']]\n",
    "df_new"
   ]
  },
  {
   "cell_type": "code",
   "execution_count": 1464,
   "id": "016dd011",
   "metadata": {},
   "outputs": [],
   "source": [
    "y = df_new['Order']\n",
    "X = df_new.drop(columns=['Order']).copy()\n"
   ]
  },
  {
   "cell_type": "code",
   "execution_count": 1465,
   "id": "e9f62850",
   "metadata": {},
   "outputs": [],
   "source": [
    "X_train, X_test, y_train, y_test = train_test_split(X, y, test_size=0.2, \n",
    "                                                    random_state=42)"
   ]
  },
  {
   "cell_type": "code",
   "execution_count": 1466,
   "id": "8dababc9",
   "metadata": {},
   "outputs": [],
   "source": [
    "from sklearn.metrics import roc_curve, roc_auc_score\n",
    "import matplotlib.pyplot as plt"
   ]
  },
  {
   "cell_type": "code",
   "execution_count": 1467,
   "id": "736f9a1c",
   "metadata": {},
   "outputs": [],
   "source": [
    "from sklearn.metrics import classification_report #resumen de métricas de clasificación \n",
    "from sklearn.model_selection import cross_val_score, train_test_split\n",
    "from sklearn.tree import DecisionTreeClassifier #clasificador\n",
    "from sklearn.metrics import confusion_matrix #relación entre qué también estamos prediciendo las etiquetas\n",
    "from sklearn import metrics\n",
    "from sklearn import tree"
   ]
  },
  {
   "cell_type": "markdown",
   "id": "e4d0afa1",
   "metadata": {},
   "source": [
    "## Modelo de árbol"
   ]
  },
  {
   "cell_type": "code",
   "execution_count": 1468,
   "id": "c41103da",
   "metadata": {},
   "outputs": [
    {
     "data": {
      "text/plain": [
       "RSI                0\n",
       "Slow Stochastic    0\n",
       "Volume_past        0\n",
       "Bull_Bear_power    0\n",
       "MACD               0\n",
       "Desicion_ema_3     0\n",
       "Desicion_ema_7     0\n",
       "Desicion_ema_13    0\n",
       "dtype: int64"
      ]
     },
     "execution_count": 1468,
     "metadata": {},
     "output_type": "execute_result"
    }
   ],
   "source": [
    "X.isnull().sum()"
   ]
  },
  {
   "cell_type": "code",
   "execution_count": 1469,
   "id": "6a137e2b",
   "metadata": {},
   "outputs": [
    {
     "data": {
      "text/plain": [
       "DecisionTreeClassifier(max_depth=5, random_state=0)"
      ]
     },
     "execution_count": 1469,
     "metadata": {},
     "output_type": "execute_result"
    }
   ],
   "source": [
    "params = {'random_state': 0, 'max_depth': 5} # 5 niveles de prfundidad\n",
    "tree = DecisionTreeClassifier(**params) #solo un árbol\n",
    "tree.fit(X_train, y_train)"
   ]
  },
  {
   "cell_type": "code",
   "execution_count": 1470,
   "id": "44df6343",
   "metadata": {},
   "outputs": [],
   "source": [
    "y_pred = tree.predict(X_test) #score de entrenamiento para la prueba"
   ]
  },
  {
   "cell_type": "code",
   "execution_count": 1471,
   "id": "021805eb",
   "metadata": {},
   "outputs": [
    {
     "data": {
      "text/html": [
       "<div>\n",
       "<style scoped>\n",
       "    .dataframe tbody tr th:only-of-type {\n",
       "        vertical-align: middle;\n",
       "    }\n",
       "\n",
       "    .dataframe tbody tr th {\n",
       "        vertical-align: top;\n",
       "    }\n",
       "\n",
       "    .dataframe thead th {\n",
       "        text-align: right;\n",
       "    }\n",
       "</style>\n",
       "<table border=\"1\" class=\"dataframe\">\n",
       "  <thead>\n",
       "    <tr style=\"text-align: right;\">\n",
       "      <th></th>\n",
       "      <th>Actual</th>\n",
       "      <th>Predicted</th>\n",
       "    </tr>\n",
       "    <tr>\n",
       "      <th>Date</th>\n",
       "      <th></th>\n",
       "      <th></th>\n",
       "    </tr>\n",
       "  </thead>\n",
       "  <tbody>\n",
       "    <tr>\n",
       "      <th>2018-09-21</th>\n",
       "      <td>1</td>\n",
       "      <td>1</td>\n",
       "    </tr>\n",
       "    <tr>\n",
       "      <th>2020-10-09</th>\n",
       "      <td>1</td>\n",
       "      <td>1</td>\n",
       "    </tr>\n",
       "    <tr>\n",
       "      <th>2017-05-25</th>\n",
       "      <td>1</td>\n",
       "      <td>1</td>\n",
       "    </tr>\n",
       "    <tr>\n",
       "      <th>2017-06-14</th>\n",
       "      <td>1</td>\n",
       "      <td>0</td>\n",
       "    </tr>\n",
       "    <tr>\n",
       "      <th>2018-01-04</th>\n",
       "      <td>1</td>\n",
       "      <td>1</td>\n",
       "    </tr>\n",
       "    <tr>\n",
       "      <th>...</th>\n",
       "      <td>...</td>\n",
       "      <td>...</td>\n",
       "    </tr>\n",
       "    <tr>\n",
       "      <th>2020-05-11</th>\n",
       "      <td>0</td>\n",
       "      <td>0</td>\n",
       "    </tr>\n",
       "    <tr>\n",
       "      <th>2017-05-17</th>\n",
       "      <td>0</td>\n",
       "      <td>1</td>\n",
       "    </tr>\n",
       "    <tr>\n",
       "      <th>2019-11-03</th>\n",
       "      <td>1</td>\n",
       "      <td>0</td>\n",
       "    </tr>\n",
       "    <tr>\n",
       "      <th>2021-09-24</th>\n",
       "      <td>1</td>\n",
       "      <td>1</td>\n",
       "    </tr>\n",
       "    <tr>\n",
       "      <th>2020-10-22</th>\n",
       "      <td>1</td>\n",
       "      <td>1</td>\n",
       "    </tr>\n",
       "  </tbody>\n",
       "</table>\n",
       "<p>344 rows × 2 columns</p>\n",
       "</div>"
      ],
      "text/plain": [
       "            Actual  Predicted\n",
       "Date                         \n",
       "2018-09-21       1          1\n",
       "2020-10-09       1          1\n",
       "2017-05-25       1          1\n",
       "2017-06-14       1          0\n",
       "2018-01-04       1          1\n",
       "...            ...        ...\n",
       "2020-05-11       0          0\n",
       "2017-05-17       0          1\n",
       "2019-11-03       1          0\n",
       "2021-09-24       1          1\n",
       "2020-10-22       1          1\n",
       "\n",
       "[344 rows x 2 columns]"
      ]
     },
     "execution_count": 1471,
     "metadata": {},
     "output_type": "execute_result"
    }
   ],
   "source": [
    "df_predict = pd.DataFrame({'Actual': y_test, 'Predicted': y_pred})\n",
    "df_predict"
   ]
  },
  {
   "cell_type": "code",
   "execution_count": 1472,
   "id": "fca24b18",
   "metadata": {},
   "outputs": [
    {
     "data": {
      "text/plain": [
       "(0.7174071376547706, 0.6540697674418605)"
      ]
     },
     "execution_count": 1472,
     "metadata": {},
     "output_type": "execute_result"
    }
   ],
   "source": [
    "tree.score(X_train, y_train), tree.score(X_test, y_test) #al azar"
   ]
  },
  {
   "cell_type": "markdown",
   "id": "b24e3464",
   "metadata": {},
   "source": [
    "## Random Forest Classifier "
   ]
  },
  {
   "cell_type": "code",
   "execution_count": 1496,
   "id": "b215d73d",
   "metadata": {},
   "outputs": [],
   "source": [
    "from sklearn.ensemble import RandomForestClassifier, ExtraTreesClassifier\n",
    "from sklearn import metrics"
   ]
  },
  {
   "cell_type": "code",
   "execution_count": 1474,
   "id": "f96c32c9",
   "metadata": {},
   "outputs": [],
   "source": [
    "y = df_new['Order']\n",
    "X = df_new.drop(columns=['Order']).copy()\n",
    "\n",
    "X_train, X_test, y_train, y_test = train_test_split(X, y, test_size=0.2, \n",
    "                                                    random_state=42)"
   ]
  },
  {
   "cell_type": "code",
   "execution_count": 1475,
   "id": "e4253703",
   "metadata": {},
   "outputs": [
    {
     "data": {
      "text/plain": [
       "RandomForestClassifier(max_depth=6, n_estimators=20)"
      ]
     },
     "execution_count": 1475,
     "metadata": {},
     "output_type": "execute_result"
    }
   ],
   "source": [
    "forest = RandomForestClassifier(n_estimators=20, max_depth=6) #20 árboles de 6 niveles de profundidad\n",
    "forest.fit(X_train, y_train)"
   ]
  },
  {
   "cell_type": "code",
   "execution_count": 1482,
   "id": "2412a7c4",
   "metadata": {},
   "outputs": [
    {
     "data": {
      "text/html": [
       "<div>\n",
       "<style scoped>\n",
       "    .dataframe tbody tr th:only-of-type {\n",
       "        vertical-align: middle;\n",
       "    }\n",
       "\n",
       "    .dataframe tbody tr th {\n",
       "        vertical-align: top;\n",
       "    }\n",
       "\n",
       "    .dataframe thead th {\n",
       "        text-align: right;\n",
       "    }\n",
       "</style>\n",
       "<table border=\"1\" class=\"dataframe\">\n",
       "  <thead>\n",
       "    <tr style=\"text-align: right;\">\n",
       "      <th></th>\n",
       "      <th>Actual</th>\n",
       "      <th>Predicted</th>\n",
       "    </tr>\n",
       "    <tr>\n",
       "      <th>Date</th>\n",
       "      <th></th>\n",
       "      <th></th>\n",
       "    </tr>\n",
       "  </thead>\n",
       "  <tbody>\n",
       "    <tr>\n",
       "      <th>2018-09-21</th>\n",
       "      <td>1</td>\n",
       "      <td>1</td>\n",
       "    </tr>\n",
       "    <tr>\n",
       "      <th>2020-10-09</th>\n",
       "      <td>1</td>\n",
       "      <td>1</td>\n",
       "    </tr>\n",
       "    <tr>\n",
       "      <th>2017-05-25</th>\n",
       "      <td>1</td>\n",
       "      <td>1</td>\n",
       "    </tr>\n",
       "    <tr>\n",
       "      <th>2017-06-14</th>\n",
       "      <td>1</td>\n",
       "      <td>0</td>\n",
       "    </tr>\n",
       "    <tr>\n",
       "      <th>2018-01-04</th>\n",
       "      <td>1</td>\n",
       "      <td>1</td>\n",
       "    </tr>\n",
       "    <tr>\n",
       "      <th>2018-12-25</th>\n",
       "      <td>1</td>\n",
       "      <td>0</td>\n",
       "    </tr>\n",
       "    <tr>\n",
       "      <th>2021-04-06</th>\n",
       "      <td>1</td>\n",
       "      <td>0</td>\n",
       "    </tr>\n",
       "    <tr>\n",
       "      <th>2017-09-27</th>\n",
       "      <td>0</td>\n",
       "      <td>1</td>\n",
       "    </tr>\n",
       "    <tr>\n",
       "      <th>2020-10-31</th>\n",
       "      <td>1</td>\n",
       "      <td>1</td>\n",
       "    </tr>\n",
       "    <tr>\n",
       "      <th>2019-07-11</th>\n",
       "      <td>0</td>\n",
       "      <td>0</td>\n",
       "    </tr>\n",
       "  </tbody>\n",
       "</table>\n",
       "</div>"
      ],
      "text/plain": [
       "            Actual  Predicted\n",
       "Date                         \n",
       "2018-09-21       1          1\n",
       "2020-10-09       1          1\n",
       "2017-05-25       1          1\n",
       "2017-06-14       1          0\n",
       "2018-01-04       1          1\n",
       "2018-12-25       1          0\n",
       "2021-04-06       1          0\n",
       "2017-09-27       0          1\n",
       "2020-10-31       1          1\n",
       "2019-07-11       0          0"
      ]
     },
     "execution_count": 1482,
     "metadata": {},
     "output_type": "execute_result"
    }
   ],
   "source": [
    "y_pred = forest.predict(X_test)\n",
    "df_predict = pd.DataFrame({'Actual': y_test, 'Predicted': y_pred})\n",
    "df_predict.head(10)"
   ]
  },
  {
   "cell_type": "code",
   "execution_count": 1497,
   "id": "06f9d754",
   "metadata": {},
   "outputs": [
    {
     "data": {
      "text/plain": [
       "0.6453488372093024"
      ]
     },
     "execution_count": 1497,
     "metadata": {},
     "output_type": "execute_result"
    }
   ],
   "source": [
    "metrics.accuracy_score(y_test, y_pred)"
   ]
  },
  {
   "cell_type": "code",
   "execution_count": 1477,
   "id": "48e5a4d0",
   "metadata": {},
   "outputs": [
    {
     "data": {
      "text/plain": [
       "(0.7530954115076475, 0.6453488372093024)"
      ]
     },
     "execution_count": 1477,
     "metadata": {},
     "output_type": "execute_result"
    }
   ],
   "source": [
    "forest.score(X_train, y_train), forest.score(X_test, y_test)"
   ]
  },
  {
   "cell_type": "code",
   "execution_count": 1498,
   "id": "c71c6355",
   "metadata": {},
   "outputs": [
    {
     "data": {
      "text/plain": [
       "0.6755319148936171"
      ]
     },
     "execution_count": 1498,
     "metadata": {},
     "output_type": "execute_result"
    }
   ],
   "source": [
    "metrics.f1_score(y_test, y_pred)"
   ]
  },
  {
   "cell_type": "code",
   "execution_count": 1499,
   "id": "a7a837ce",
   "metadata": {},
   "outputs": [
    {
     "data": {
      "text/plain": [
       "0.6428861513469608"
      ]
     },
     "execution_count": 1499,
     "metadata": {},
     "output_type": "execute_result"
    }
   ],
   "source": [
    "metrics.roc_auc_score(y_test, y_pred)"
   ]
  },
  {
   "cell_type": "code",
   "execution_count": 1486,
   "id": "02e383ca",
   "metadata": {},
   "outputs": [
    {
     "data": {
      "text/plain": [
       "<sklearn.metrics._plot.confusion_matrix.ConfusionMatrixDisplay at 0x2b9b64bff40>"
      ]
     },
     "execution_count": 1486,
     "metadata": {},
     "output_type": "execute_result"
    },
    {
     "data": {
      "image/png": "[encoded data removed]",
      "text/plain": [
       "<Figure size 640x480 with 2 Axes>"
      ]
     },
     "metadata": {},
     "output_type": "display_data"
    }
   ],
   "source": [
    "metrics.plot_confusion_matrix(forest, X_test, y_test)"
   ]
  },
  {
   "cell_type": "markdown",
   "id": "ed0eecf6",
   "metadata": {},
   "source": [
    "## 95 Ventas acertadas\n",
    "## 125 Compras acertadas\n",
    "## 51 Órdenes de Venta fallidas\n",
    "## 71 Órdenes de Compra Fallidas\n",
    "\n",
    "### 220 aciertos, 122 fallas, total 342 transacciones\n",
    "\n",
    "#### Con 100dolares\n",
    "### Si hubiera invertido solo el 3% de mi capital por operación, es decir 3dolares por operación y ganado el 70% por operación. Tendría 462 dolares positivos. Menos 366 dolares de operaciones fallidas\n",
    "## Monto Final 100+96 = 196 dólares"
   ]
  },
  {
   "cell_type": "code",
   "execution_count": 1488,
   "id": "09fdfb9f",
   "metadata": {},
   "outputs": [
    {
     "data": {
      "text/plain": [
       "<sklearn.metrics._plot.confusion_matrix.ConfusionMatrixDisplay at 0x2b9b645a670>"
      ]
     },
     "execution_count": 1488,
     "metadata": {},
     "output_type": "execute_result"
    },
    {
     "data": {
      "image/png": "[encoded data removed]",
      "text/plain": [
       "<Figure size 640x480 with 2 Axes>"
      ]
     },
     "metadata": {},
     "output_type": "display_data"
    }
   ],
   "source": [
    "metrics.plot_confusion_matrix(forest, X_test[:248], y_test[:248]) #248 días laborables"
   ]
  },
  {
   "cell_type": "code",
   "execution_count": 1478,
   "id": "fbd9db48",
   "metadata": {},
   "outputs": [
    {
     "data": {
      "text/plain": [
       "Index(['RSI', 'Slow Stochastic', 'Volume_past', 'Bull_Bear_power', 'MACD',\n",
       "       'Desicion_ema_3', 'Desicion_ema_7', 'Desicion_ema_13'],\n",
       "      dtype='object')"
      ]
     },
     "execution_count": 1478,
     "metadata": {},
     "output_type": "execute_result"
    }
   ],
   "source": [
    "X_train.columns"
   ]
  },
  {
   "cell_type": "code",
   "execution_count": 1479,
   "id": "20d0bb74",
   "metadata": {},
   "outputs": [
    {
     "data": {
      "text/html": [
       "<div>\n",
       "<style scoped>\n",
       "    .dataframe tbody tr th:only-of-type {\n",
       "        vertical-align: middle;\n",
       "    }\n",
       "\n",
       "    .dataframe tbody tr th {\n",
       "        vertical-align: top;\n",
       "    }\n",
       "\n",
       "    .dataframe thead th {\n",
       "        text-align: right;\n",
       "    }\n",
       "</style>\n",
       "<table border=\"1\" class=\"dataframe\">\n",
       "  <thead>\n",
       "    <tr style=\"text-align: right;\">\n",
       "      <th></th>\n",
       "      <th>RSI</th>\n",
       "      <th>Slow Stochastic</th>\n",
       "      <th>Volume_past</th>\n",
       "      <th>Bull_Bear_power</th>\n",
       "      <th>MACD</th>\n",
       "      <th>Desicion_ema_3</th>\n",
       "      <th>Desicion_ema_7</th>\n",
       "      <th>Desicion_ema_13</th>\n",
       "    </tr>\n",
       "    <tr>\n",
       "      <th>Date</th>\n",
       "      <th></th>\n",
       "      <th></th>\n",
       "      <th></th>\n",
       "      <th></th>\n",
       "      <th></th>\n",
       "      <th></th>\n",
       "      <th></th>\n",
       "      <th></th>\n",
       "    </tr>\n",
       "  </thead>\n",
       "  <tbody>\n",
       "    <tr>\n",
       "      <th>2021-10-08</th>\n",
       "      <td>70.642500</td>\n",
       "      <td>62.233799</td>\n",
       "      <td>3.680786e+10</td>\n",
       "      <td>-618.492188</td>\n",
       "      <td>1572.809821</td>\n",
       "      <td>0</td>\n",
       "      <td>1</td>\n",
       "      <td>1</td>\n",
       "    </tr>\n",
       "    <tr>\n",
       "      <th>2021-10-09</th>\n",
       "      <td>78.214395</td>\n",
       "      <td>65.700771</td>\n",
       "      <td>3.480087e+10</td>\n",
       "      <td>-1523.083233</td>\n",
       "      <td>2249.037435</td>\n",
       "      <td>1</td>\n",
       "      <td>1</td>\n",
       "      <td>1</td>\n",
       "    </tr>\n",
       "    <tr>\n",
       "      <th>2021-10-10</th>\n",
       "      <td>79.751825</td>\n",
       "      <td>69.649242</td>\n",
       "      <td>3.249121e+10</td>\n",
       "      <td>-2487.379207</td>\n",
       "      <td>3098.440905</td>\n",
       "      <td>1</td>\n",
       "      <td>1</td>\n",
       "      <td>1</td>\n",
       "    </tr>\n",
       "    <tr>\n",
       "      <th>2021-10-11</th>\n",
       "      <td>78.381714</td>\n",
       "      <td>74.022588</td>\n",
       "      <td>3.952779e+10</td>\n",
       "      <td>-1724.946815</td>\n",
       "      <td>4067.126077</td>\n",
       "      <td>1</td>\n",
       "      <td>1</td>\n",
       "      <td>1</td>\n",
       "    </tr>\n",
       "    <tr>\n",
       "      <th>2021-10-12</th>\n",
       "      <td>84.801272</td>\n",
       "      <td>78.745420</td>\n",
       "      <td>4.263733e+10</td>\n",
       "      <td>-1423.187200</td>\n",
       "      <td>4770.369266</td>\n",
       "      <td>0</td>\n",
       "      <td>1</td>\n",
       "      <td>1</td>\n",
       "    </tr>\n",
       "  </tbody>\n",
       "</table>\n",
       "</div>"
      ],
      "text/plain": [
       "                  RSI  Slow Stochastic   Volume_past  Bull_Bear_power  \\\n",
       "Date                                                                    \n",
       "2021-10-08  70.642500        62.233799  3.680786e+10      -618.492188   \n",
       "2021-10-09  78.214395        65.700771  3.480087e+10     -1523.083233   \n",
       "2021-10-10  79.751825        69.649242  3.249121e+10     -2487.379207   \n",
       "2021-10-11  78.381714        74.022588  3.952779e+10     -1724.946815   \n",
       "2021-10-12  84.801272        78.745420  4.263733e+10     -1423.187200   \n",
       "\n",
       "                   MACD  Desicion_ema_3  Desicion_ema_7  Desicion_ema_13  \n",
       "Date                                                                      \n",
       "2021-10-08  1572.809821               0               1                1  \n",
       "2021-10-09  2249.037435               1               1                1  \n",
       "2021-10-10  3098.440905               1               1                1  \n",
       "2021-10-11  4067.126077               1               1                1  \n",
       "2021-10-12  4770.369266               0               1                1  "
      ]
     },
     "execution_count": 1479,
     "metadata": {},
     "output_type": "execute_result"
    }
   ],
   "source": [
    "X.tail()"
   ]
  },
  {
   "cell_type": "code",
   "execution_count": 1480,
   "id": "a59952c5",
   "metadata": {},
   "outputs": [
    {
     "data": {
      "text/plain": [
       "array([0], dtype=int64)"
      ]
     },
     "execution_count": 1480,
     "metadata": {},
     "output_type": "execute_result"
    }
   ],
   "source": [
    "#Prueba hecha 18/10/2021\n",
    "forest.predict([[72.45,91.81, 29032367511 , -8063.30, 3980.51, 0, 1, 1]])"
   ]
  },
  {
   "cell_type": "markdown",
   "id": "2503ead2",
   "metadata": {},
   "source": [
    "## Regresión Lineal"
   ]
  },
  {
   "cell_type": "code",
   "execution_count": null,
   "id": "7eaaf877",
   "metadata": {},
   "outputs": [],
   "source": [
    "from sklearn.linear_model import LinearRegression\n"
   ]
  },
  {
   "cell_type": "code",
   "execution_count": null,
   "id": "327fb782",
   "metadata": {},
   "outputs": [],
   "source": [
    "df_conti = df[['RSI','Fast Stochastic', 'Slow Stochastic', 'VMA','Bears_power'\n",
    "             ,'MACD','ema_13','Close']]\n",
    "df_conti"
   ]
  },
  {
   "cell_type": "code",
   "execution_count": null,
   "id": "e057a1b5",
   "metadata": {},
   "outputs": [],
   "source": [
    "y = df_conti['Close']\n",
    "X = df_conti.drop(columns=['Close']).copy()"
   ]
  },
  {
   "cell_type": "code",
   "execution_count": null,
   "id": "cb7b9040",
   "metadata": {},
   "outputs": [],
   "source": [
    "X_train, X_test, y_train, y_test = train_test_split(X, y, \n",
    "                                                    test_size=0.2)"
   ]
  },
  {
   "cell_type": "code",
   "execution_count": null,
   "id": "a33701ef",
   "metadata": {},
   "outputs": [],
   "source": [
    "linreg = LinearRegression()\n",
    "linreg.fit(X_train, y_train)\n"
   ]
  },
  {
   "cell_type": "code",
   "execution_count": null,
   "id": "fbd9bf51",
   "metadata": {},
   "outputs": [],
   "source": [
    "train_score = linreg.score(X_train, y_train)\n",
    "test_score = linreg.score(X_test, y_test)\n",
    "train_score, test_score"
   ]
  },
  {
   "cell_type": "code",
   "execution_count": null,
   "id": "f62efbb3",
   "metadata": {},
   "outputs": [],
   "source": [
    "df_conti['prediction'] = 0\n",
    "df_conti['prediction'][-344:]= linreg.predict(X[-344:])\n",
    "df_conti"
   ]
  },
  {
   "cell_type": "code",
   "execution_count": null,
   "id": "ae033366",
   "metadata": {},
   "outputs": [],
   "source": [
    "df_conti[['Close','prediction']].tail(20)"
   ]
  },
  {
   "cell_type": "code",
   "execution_count": null,
   "id": "c4aac19a",
   "metadata": {},
   "outputs": [],
   "source": [
    "sns.set_context(\"notebook\", font_scale=1.5, rc={\"lines.linewidth\": 2.5})\n",
    "df_conti['Close'][-365:].plot(figsize=[15, 6])\n",
    "df_conti['prediction'][-365:].plot(figsize=[15, 6]);"
   ]
  },
  {
   "cell_type": "code",
   "execution_count": null,
   "id": "19b51f55",
   "metadata": {},
   "outputs": [],
   "source": [
    "X[-344:]"
   ]
  },
  {
   "cell_type": "markdown",
   "id": "43b3c587",
   "metadata": {},
   "source": [
    "## Series de Tiempo Holt Winters"
   ]
  },
  {
   "cell_type": "code",
   "execution_count": null,
   "id": "e87e9f41",
   "metadata": {},
   "outputs": [],
   "source": [
    "from statsmodels.tsa.seasonal import seasonal_decompose\n",
    "import statsmodels.api as sm\n",
    "from pylab import rcParams\n",
    "\n",
    "# holt winters \n",
    "# single exponential smoothing\n",
    "from statsmodels.tsa.holtwinters import SimpleExpSmoothing   \n",
    "# double and triple exponential smoothing\n",
    "from statsmodels.tsa.holtwinters import ExponentialSmoothing\n",
    "from sklearn.metrics import mean_absolute_error,mean_squared_error"
   ]
  },
  {
   "cell_type": "code",
   "execution_count": null,
   "id": "91470e3c",
   "metadata": {},
   "outputs": [],
   "source": [
    "df = df.resample('D').sum()\n",
    "df.head(10)"
   ]
  },
  {
   "cell_type": "code",
   "execution_count": null,
   "id": "f7418c47",
   "metadata": {},
   "outputs": [],
   "source": [
    "df_time_series =df[-365:]\n",
    "decomposition = sm.tsa.seasonal_decompose(df_time_series.Close, model='multiplicative')"
   ]
  },
  {
   "cell_type": "code",
   "execution_count": null,
   "id": "937546e6",
   "metadata": {
    "scrolled": false
   },
   "outputs": [],
   "source": [
    "fig = decomposition.plot()\n",
    "plt.rcParams.update({'figure.figsize': (15,30)})\n",
    "\n",
    "plt.show();"
   ]
  },
  {
   "cell_type": "code",
   "execution_count": null,
   "id": "9b3d78b7",
   "metadata": {},
   "outputs": [],
   "source": [
    "train = 3\n",
    "df_train = df_time_series[:train]\n",
    "df_test = df_time_series[train:]\n",
    "df_train.info()"
   ]
  },
  {
   "cell_type": "code",
   "execution_count": null,
   "id": "5b624b23",
   "metadata": {},
   "outputs": [],
   "source": [
    "def holt_winters_forecasting(data,name,periods, t_s):\n",
    "    train = 358\n",
    "    test = len(data)-train\n",
    "    data_train = data[:train]\n",
    "    data_test = data[train:]\n",
    "    \n",
    "    fitted_model = ExponentialSmoothing(data_train,trend=t_s, seasonal=t_s, seasonal_periods=periods).fit()\n",
    "    test_predictions = fitted_model.forecast(test)\n",
    "    \n",
    "    sns.set_style(\"darkgrid\")\n",
    "    sns.set_context(\"notebook\", font_scale=1.5, rc={\"lines.linewidth\": 2.5})\n",
    "    #data_train.plot(legend=True,label='TRAIN')\n",
    "    #data_test.plot(legend=True,label='TEST',figsize=(15,6))\n",
    "    #test_predictions.plot(legend=True,label='PREDICTION')\n",
    "    #plt.title(f'{name}: Train, Test and Predicted Test using Holt Winters');\n",
    "\n",
    "    data_test.plot(legend=True,label='TEST',figsize=(9,6))\n",
    "    data_train.plot(legend=True,label='TRAIN',figsize=(9,6),xlim=['2021-09-02','2021-10-18'])\n",
    "    test_predictions.plot(legend=True,label='PREDICTION',xlim=['2021-09-02','2021-10-18'])\n",
    "    plt.title(f'ZOOM {name}: Train, Test and Predicted Test using Holt Winters');\n",
    "    \n",
    "    print(f'Mean Absolute Error = {mean_absolute_error(data_test,test_predictions)}')\n",
    "    print(f'Mean Squared Error = {mean_squared_error(data_test,test_predictions)}')\n",
    "    \n",
    "    return test_predictions"
   ]
  },
  {
   "cell_type": "code",
   "execution_count": null,
   "id": "c602ec9d",
   "metadata": {},
   "outputs": [],
   "source": [
    "btc_prediction_Close = holt_winters_forecasting(df_time_series.Close, 'BTC/USD', 42, 'add')"
   ]
  },
  {
   "cell_type": "code",
   "execution_count": null,
   "id": "b33614d6",
   "metadata": {},
   "outputs": [],
   "source": [
    "btc_prediction_Close"
   ]
  },
  {
   "cell_type": "code",
   "execution_count": null,
   "id": "c19b8e52",
   "metadata": {},
   "outputs": [],
   "source": []
  },
  {
   "cell_type": "code",
   "execution_count": null,
   "id": "1c060c04",
   "metadata": {},
   "outputs": [],
   "source": []
  }
 ],
 "metadata": {
  "kernelspec": {
   "display_name": "Python 3 (ipykernel)",
   "language": "python",
   "name": "python3"
  },
  "language_info": {
   "codemirror_mode": {
    "name": "ipython",
    "version": 3
   },
   "file_extension": ".py",
   "mimetype": "text/x-python",
   "name": "python",
   "nbconvert_exporter": "python",
   "pygments_lexer": "ipython3",
   "version": "3.9.6"
  }
 },
 "nbformat": 4,
 "nbformat_minor": 5
}
